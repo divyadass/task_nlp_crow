{
 "cells": [
  {
   "cell_type": "markdown",
   "metadata": {},
   "source": [
    "# Task Given\n",
    "\n",
    "### Example Coding Project \n",
    "\n",
    "We would like for you to submit a coding project that you have completed that you feel best showcases your abilities. \n",
    "Examples include, but are not at all limited to: <br><br>\n",
    "• Machine learning problems <br>\n",
    "• Libraries <br>\n",
    "• Applications <br>\n",
    "\n",
    "This is purposefully open-ended to allow you the opportunity to show off your skills and demonstrate the  type of work product you can produce. <br><br>\n",
    "Typically, candidates submit a repository link (github, gitlab, etc), an archive (zip, gzip, etc), jupyter notebook, Kaggle Code notebook, etc. <br><br>\n",
    "Please do not submit a project that is confidential or would generally not be acceptable for public  distribution. At the conclusion of your interview process, all information pertaining to your project (links,  files, etc) will be deleted.<br> <br>\n",
    "Please submit your name and project to alex.houston@crowe.com.\n"
   ]
  },
  {
   "cell_type": "markdown",
   "metadata": {},
   "source": [
    " "
   ]
  },
  {
   "cell_type": "markdown",
   "metadata": {},
   "source": [
    " "
   ]
  },
  {
   "cell_type": "markdown",
   "metadata": {},
   "source": [
    " "
   ]
  },
  {
   "cell_type": "markdown",
   "metadata": {},
   "source": [
    "  "
   ]
  },
  {
   "cell_type": "markdown",
   "metadata": {},
   "source": [
    " "
   ]
  },
  {
   "cell_type": "markdown",
   "metadata": {},
   "source": [
    "# Task chosen\n",
    "\n",
    "**Aim**: To identify weather a given News Headline is sarcastic or not. Also, to make a flask API off the chosen trained model.<br>\n",
    "\n",
    "**Scenario**: Our model is being used by an online News-firm to detect if a given headline is Sarcastic or not. The numbers of articles the firms deals with is in thousands. If our model classifies a given headline as sarcastic, then only it is manually reviewd, otherwise the article is published along with the same headline. If an article with sarcastic headline is published then the news firm can face serious repercussions.\n",
    "\n",
    "**Problem Domain**: NLP <br>\n",
    "\n",
    "**Data**: Publicaly available News Headline data <br>\n",
    "\n",
    "**Approach**: <br>\n",
    "It is clear that the chosen problem is a classification problem over text data. On a broader sense, there are two choices to be made. One is which classification algorithm to use, second one being which text representation to use. <br><br>\n",
    "\n",
    "Since, there are multiple algorithms and representations available for solve the text classification problem, we need to try them out to find which best fits our data before deploying anything for the customer.<br><br>\n",
    "\n",
    "In the cells below, following text-representations and classification algorithms have been tried to fit on the data: <br>\n",
    "Classification algorithms: Naive Bayes, Logistic regression, SVM, LSTM <br>\n",
    "Representations: Bag of words, Tf-IDF, word2vec <br>"
   ]
  },
  {
   "cell_type": "markdown",
   "metadata": {},
   "source": [
    " "
   ]
  },
  {
   "cell_type": "markdown",
   "metadata": {},
   "source": [
    " "
   ]
  },
  {
   "cell_type": "markdown",
   "metadata": {},
   "source": [
    " "
   ]
  },
  {
   "cell_type": "markdown",
   "metadata": {},
   "source": [
    " "
   ]
  },
  {
   "cell_type": "markdown",
   "metadata": {},
   "source": [
    " "
   ]
  },
  {
   "cell_type": "markdown",
   "metadata": {},
   "source": [
    "**About the given solution**: <br>\n",
    "\n",
    "**GIT branchs** <br>\n",
    "- develop: contains jupyter notebook and associated python files\n",
    "- deployment: contains a flask API for the selected model from the develop branch\n",
    "\n",
    "**About Python files**: <br>\n",
    "- models.py: contains code for classification algorithms used\n",
    "- representations.py: contains code for different text-representations used\n",
    "- util.py: contains helper methods used\n",
    "\n",
    "**About google sheet**:\n",
    "- linked google sheet contains results of experimentation done on the dataset with various algorithms\n",
    "\n",
    "<br><br><br>\n",
    "<b>Further explanation for path chosen and decisions taken during the assignment can be found along with the code and in markdown cells</b>"
   ]
  },
  {
   "cell_type": "markdown",
   "metadata": {
    "id": "A0JgDtRvabk_"
   },
   "source": [
    "# Sarcasm Detection"
   ]
  },
  {
   "cell_type": "code",
   "execution_count": 1,
   "metadata": {
    "id": "UIS7O-J156SV"
   },
   "outputs": [],
   "source": [
    "## Loading required libraries\n",
    "\n",
    "## data manipulation libraries\n",
    "import pandas as pd\n",
    "import numpy as np\n",
    "\n",
    "## import different metrics to evaluate the classifiers\n",
    "from sklearn.metrics import accuracy_score, f1_score\n",
    "from sklearn.metrics import confusion_matrix \n",
    "from sklearn.metrics import roc_auc_score\n",
    "\n",
    "## loading modeling related libraires and methods\n",
    "from sklearn.model_selection import train_test_split\n",
    "from models import naive_bayes, logistic_regression, svm\n",
    "\n",
    "## loading text-representations related libraries and methods\n",
    "\n",
    "from representations import embedding_feats ## returns vector representation of all the documents\n",
    "from representations import make_embedding_dict\n",
    "from representations import BoW_representation, tf_idf_representation, word2Vec\n",
    "\n",
    "from utils import clean, plot_confusion_matrix, get_confusion_matrix, print_metrics, get_class, take\n",
    "\n",
    "## to save artifacts to use during inference time\n",
    "import pickle"
   ]
  },
  {
   "cell_type": "code",
   "execution_count": 2,
   "metadata": {
    "colab": {
     "base_uri": "https://localhost:8080/"
    },
    "id": "ckWL10-IePbR",
    "outputId": "2805ffdf-5cb2-430f-fb02-7c165b05f31b"
   },
   "outputs": [
    {
     "data": {
      "text/plain": [
       "(26709, 3)"
      ]
     },
     "execution_count": 2,
     "metadata": {},
     "output_type": "execute_result"
    }
   ],
   "source": [
    "## reading data\n",
    "data_s = pd.read_json('data/Sarcasm_Headlines_Dataset.json', lines= True)\n",
    "data_s.shape"
   ]
  },
  {
   "cell_type": "code",
   "execution_count": 3,
   "metadata": {
    "colab": {
     "base_uri": "https://localhost:8080/",
     "height": 204
    },
    "id": "5VCPJz5GeUXm",
    "outputId": "ed56f3fc-d9df-4c7c-8b5f-dbe428e13f5f"
   },
   "outputs": [
    {
     "data": {
      "text/html": [
       "<div>\n",
       "<style scoped>\n",
       "    .dataframe tbody tr th:only-of-type {\n",
       "        vertical-align: middle;\n",
       "    }\n",
       "\n",
       "    .dataframe tbody tr th {\n",
       "        vertical-align: top;\n",
       "    }\n",
       "\n",
       "    .dataframe thead th {\n",
       "        text-align: right;\n",
       "    }\n",
       "</style>\n",
       "<table border=\"1\" class=\"dataframe\">\n",
       "  <thead>\n",
       "    <tr style=\"text-align: right;\">\n",
       "      <th></th>\n",
       "      <th>article_link</th>\n",
       "      <th>headline</th>\n",
       "      <th>is_sarcastic</th>\n",
       "    </tr>\n",
       "  </thead>\n",
       "  <tbody>\n",
       "    <tr>\n",
       "      <th>0</th>\n",
       "      <td>https://www.huffingtonpost.com/entry/versace-b...</td>\n",
       "      <td>former versace store clerk sues over secret 'b...</td>\n",
       "      <td>0</td>\n",
       "    </tr>\n",
       "    <tr>\n",
       "      <th>1</th>\n",
       "      <td>https://www.huffingtonpost.com/entry/roseanne-...</td>\n",
       "      <td>the 'roseanne' revival catches up to our thorn...</td>\n",
       "      <td>0</td>\n",
       "    </tr>\n",
       "    <tr>\n",
       "      <th>2</th>\n",
       "      <td>https://local.theonion.com/mom-starting-to-fea...</td>\n",
       "      <td>mom starting to fear son's web series closest ...</td>\n",
       "      <td>1</td>\n",
       "    </tr>\n",
       "    <tr>\n",
       "      <th>3</th>\n",
       "      <td>https://politics.theonion.com/boehner-just-wan...</td>\n",
       "      <td>boehner just wants wife to listen, not come up...</td>\n",
       "      <td>1</td>\n",
       "    </tr>\n",
       "    <tr>\n",
       "      <th>4</th>\n",
       "      <td>https://www.huffingtonpost.com/entry/jk-rowlin...</td>\n",
       "      <td>j.k. rowling wishes snape happy birthday in th...</td>\n",
       "      <td>0</td>\n",
       "    </tr>\n",
       "  </tbody>\n",
       "</table>\n",
       "</div>"
      ],
      "text/plain": [
       "                                        article_link  \\\n",
       "0  https://www.huffingtonpost.com/entry/versace-b...   \n",
       "1  https://www.huffingtonpost.com/entry/roseanne-...   \n",
       "2  https://local.theonion.com/mom-starting-to-fea...   \n",
       "3  https://politics.theonion.com/boehner-just-wan...   \n",
       "4  https://www.huffingtonpost.com/entry/jk-rowlin...   \n",
       "\n",
       "                                            headline  is_sarcastic  \n",
       "0  former versace store clerk sues over secret 'b...             0  \n",
       "1  the 'roseanne' revival catches up to our thorn...             0  \n",
       "2  mom starting to fear son's web series closest ...             1  \n",
       "3  boehner just wants wife to listen, not come up...             1  \n",
       "4  j.k. rowling wishes snape happy birthday in th...             0  "
      ]
     },
     "execution_count": 3,
     "metadata": {},
     "output_type": "execute_result"
    }
   ],
   "source": [
    "data_s.head()"
   ]
  },
  {
   "cell_type": "markdown",
   "metadata": {
    "id": "ukCMTciupEFh"
   },
   "source": [
    "## Some basic EDA and data cleaning\n",
    "\n",
    "- Since publicaly provided data is being used, expecting it to be quite clean "
   ]
  },
  {
   "cell_type": "code",
   "execution_count": 4,
   "metadata": {
    "colab": {
     "base_uri": "https://localhost:8080/"
    },
    "id": "JTyt2zmtegfB",
    "outputId": "7a950623-4282-4e97-9ca4-7b36312f1832"
   },
   "outputs": [
    {
     "data": {
      "text/plain": [
       "1"
      ]
     },
     "execution_count": 4,
     "metadata": {},
     "output_type": "execute_result"
    }
   ],
   "source": [
    "## checking duplicate rows existence \n",
    "data_s.duplicated().sum()\n",
    "\n",
    "## there's one duplicate row"
   ]
  },
  {
   "cell_type": "code",
   "execution_count": 5,
   "metadata": {
    "colab": {
     "base_uri": "https://localhost:8080/"
    },
    "id": "9n70t9ZBeW9C",
    "outputId": "cd40bc58-5294-4c55-c5f5-88a70f586529"
   },
   "outputs": [
    {
     "name": "stdout",
     "output_type": "stream",
     "text": [
      "dataframe shape:  (26708, 3)\n"
     ]
    }
   ],
   "source": [
    "## Dropping duplicates rows\n",
    "data_s.drop_duplicates(inplace=True)\n",
    "print('dataframe shape: ', data_s.shape)"
   ]
  },
  {
   "cell_type": "code",
   "execution_count": 6,
   "metadata": {
    "colab": {
     "base_uri": "https://localhost:8080/"
    },
    "id": "IUEemoDYmIcY",
    "outputId": "72bd5688-0711-47d5-cc63-88fbf154e2cc"
   },
   "outputs": [
    {
     "data": {
      "text/plain": [
       "106"
      ]
     },
     "execution_count": 6,
     "metadata": {},
     "output_type": "execute_result"
    }
   ],
   "source": [
    "## checking duplicates in the headline column \n",
    "data_s[['headline']].duplicated().sum()"
   ]
  },
  {
   "cell_type": "code",
   "execution_count": 7,
   "metadata": {
    "colab": {
     "base_uri": "https://localhost:8080/"
    },
    "id": "n3FMeGlTmHsk",
    "outputId": "fffbf810-04e1-416d-ac78-4f8e85abdd2b"
   },
   "outputs": [
    {
     "name": "stdout",
     "output_type": "stream",
     "text": [
      "dataframe shape:  (26602, 3)\n"
     ]
    }
   ],
   "source": [
    "## Removing rows with duplicates headlines since keeping duplicates in headline gives model no useful infoemation\n",
    "data_s.drop_duplicates(subset='headline', keep='last', inplace=True)\n",
    "print('dataframe shape: ', data_s.shape)"
   ]
  },
  {
   "cell_type": "code",
   "execution_count": 8,
   "metadata": {
    "colab": {
     "base_uri": "https://localhost:8080/"
    },
    "id": "qCi3bckZna4S",
    "outputId": "50052cc9-6cd0-4b4a-aadc-e9ef671166b4"
   },
   "outputs": [
    {
     "name": "stdout",
     "output_type": "stream",
     "text": [
      "Dataset size after cleaning:  (26602, 3)\n",
      "Number of unique articles link: 26602\n",
      "Number of unique headline: 26602\n"
     ]
    }
   ],
   "source": [
    "print('Dataset size after cleaning: ',data_s.shape)\n",
    "print('Number of unique articles link: '+str(data_s['article_link'].unique().shape[0]))\n",
    "print('Number of unique headline: '+ str(data_s['headline'].unique().shape[0]))"
   ]
  },
  {
   "cell_type": "code",
   "execution_count": 9,
   "metadata": {
    "colab": {
     "base_uri": "https://localhost:8080/"
    },
    "id": "Gwx2J4eInrd3",
    "outputId": "a5379158-ec8e-4c59-aa2b-00f343fb66ce"
   },
   "outputs": [
    {
     "name": "stdout",
     "output_type": "stream",
     "text": [
      "Sarcastic Comments:  11651\n",
      "Non-Sarcastic Comments:  14951\n",
      "\n",
      "Sarcastic Comments percentage:  43.79745883768138\n",
      "Non-Sarcastic Comments percentage:  56.20254116231862\n"
     ]
    }
   ],
   "source": [
    "print('Sarcastic Comments: ', data_s['is_sarcastic'].value_counts()[1])\n",
    "print('Non-Sarcastic Comments: ', data_s['is_sarcastic'].value_counts()[0])\n",
    "print()\n",
    "print('Sarcastic Comments percentage: ', data_s['is_sarcastic'].value_counts()[1]/data_s.shape[0]*100)\n",
    "print('Non-Sarcastic Comments percentage: ', data_s['is_sarcastic'].value_counts()[0]/data_s.shape[0]*100)"
   ]
  },
  {
   "cell_type": "markdown",
   "metadata": {},
   "source": [
    "**From the percentage in both categories, it can be seen that the given data is not imbalanced, and our model will therefore might not suffer from class imbalanced problem** <br><br><br>"
   ]
  },
  {
   "cell_type": "markdown",
   "metadata": {},
   "source": [
    "**More EDA is done as needed per the situtaion in cells below in the notebook** <br><br><br>"
   ]
  },
  {
   "cell_type": "markdown",
   "metadata": {
    "id": "lUL9iF7CpS76"
   },
   "source": [
    "**To identify wheather a News headline is sarcastic or not, the article link won't prove to be of much help. Therefore, we will drop the column**"
   ]
  },
  {
   "cell_type": "code",
   "execution_count": 10,
   "metadata": {
    "colab": {
     "base_uri": "https://localhost:8080/",
     "height": 111
    },
    "id": "xS6sDCSFpgyF",
    "outputId": "841d1872-488d-4f91-a1bb-25e6d6216874"
   },
   "outputs": [
    {
     "data": {
      "text/html": [
       "<div>\n",
       "<style scoped>\n",
       "    .dataframe tbody tr th:only-of-type {\n",
       "        vertical-align: middle;\n",
       "    }\n",
       "\n",
       "    .dataframe tbody tr th {\n",
       "        vertical-align: top;\n",
       "    }\n",
       "\n",
       "    .dataframe thead th {\n",
       "        text-align: right;\n",
       "    }\n",
       "</style>\n",
       "<table border=\"1\" class=\"dataframe\">\n",
       "  <thead>\n",
       "    <tr style=\"text-align: right;\">\n",
       "      <th></th>\n",
       "      <th>headline</th>\n",
       "      <th>is_sarcastic</th>\n",
       "    </tr>\n",
       "  </thead>\n",
       "  <tbody>\n",
       "    <tr>\n",
       "      <th>0</th>\n",
       "      <td>former versace store clerk sues over secret 'b...</td>\n",
       "      <td>0</td>\n",
       "    </tr>\n",
       "    <tr>\n",
       "      <th>1</th>\n",
       "      <td>the 'roseanne' revival catches up to our thorn...</td>\n",
       "      <td>0</td>\n",
       "    </tr>\n",
       "  </tbody>\n",
       "</table>\n",
       "</div>"
      ],
      "text/plain": [
       "                                            headline  is_sarcastic\n",
       "0  former versace store clerk sues over secret 'b...             0\n",
       "1  the 'roseanne' revival catches up to our thorn...             0"
      ]
     },
     "execution_count": 10,
     "metadata": {},
     "output_type": "execute_result"
    }
   ],
   "source": [
    "data_s.drop(['article_link'], axis= 1, inplace=True)\n",
    "data_s.head(2)"
   ]
  },
  {
   "cell_type": "markdown",
   "metadata": {},
   "source": [
    "# Choice of metric\n",
    "\n",
    "- In any ML/DL project, choice of metric is very important to get started with the problem. This helps in comparing the results of different trained model and also to ascertain if we are meeting the business requirement.\n",
    "- We will take **F1-score** as deciding metric between models. Also, **to meet the Scenario requirement** given above, we will try to increase recall as much as possible. While focusing less on the precision. I.e. Given same f1-score between two models, we will choose the one which have better **Recall**\n",
    "<br><br><br><br><br>"
   ]
  },
  {
   "cell_type": "markdown",
   "metadata": {},
   "source": [
    "# General approach to tackle the problem at hand\n",
    "\n",
    "- It is advisable to quickly make baseline model up and running with proper metric.\n",
    "- I will be using NB with BoW representation as the baseline. The perfomance of the model can be easily found in the google sheet.\n",
    "- After the baseline, other algorithms will be tried with default settings to see which one best fits the data. \n",
    "- Naive Bayes, Logictic Regression, and SVM will be tried upon with BoW, Tf-TDF, and word2vec. LSTM and BI-LSTM will be applied on word2vec.\n",
    "- The performance of these approaches is compared as per chosen metric.\n",
    "- The algorithm which fits the data best and give best result on testing set will be chosen to do deeper error-analysis in an effort to further enhance this selected model.\n",
    "- the selected model will be deployed using flask in the deployment branch."
   ]
  },
  {
   "cell_type": "code",
   "execution_count": 11,
   "metadata": {
    "colab": {
     "base_uri": "https://localhost:8080/"
    },
    "id": "ojvPmgkr9PCb",
    "outputId": "06809d65-c77d-46f7-f422-324314c72a12"
   },
   "outputs": [
    {
     "name": "stdout",
     "output_type": "stream",
     "text": [
      "Total data shape, X and Y\n",
      "(26602,) (26602,)\n",
      "\n",
      "Train data shape, X and Y\n",
      "(19951,) (19951,)\n",
      "Test data shape, X and Y\n",
      "(6651,) (6651,)\n"
     ]
    }
   ],
   "source": [
    "## train-test split \n",
    "## same-split to be used across all algorithms since we want comparative study \n",
    "\n",
    "X = data_s.headline \n",
    "y = data_s.is_sarcastic  \n",
    "print('Total data shape, X and Y')\n",
    "print(X.shape, y.shape)\n",
    "\n",
    "## random_state=1 for reproducibility #75%-25% default train-test split\n",
    "X_train, X_test, y_train, y_test = train_test_split(X, y, random_state=1) \n",
    "print()\n",
    "print('Train data shape, X and Y')\n",
    "print(X_train.shape, y_train.shape)\n",
    "print('Test data shape, X and Y')\n",
    "print(X_test.shape, y_test.shape)"
   ]
  },
  {
   "cell_type": "code",
   "execution_count": 12,
   "metadata": {},
   "outputs": [],
   "source": [
    "## A look at the train data"
   ]
  },
  {
   "cell_type": "code",
   "execution_count": 13,
   "metadata": {},
   "outputs": [
    {
     "data": {
      "text/plain": [
       "12897    victoria's secret introduces 3-inch patch of s...\n",
       "23365                             the power of perspective\n",
       "17425    democrats fear that expectations for donald tr...\n",
       "15768     how we became the heaviest drinkers in a century\n",
       "7287     what the trump team should consider before axi...\n",
       "                               ...                        \n",
       "11018                 rain told to go away in 1986 returns\n",
       "17384    woman already off to bad start as mother after...\n",
       "5225     anne hathaway, james franco spend every moment...\n",
       "12245    area woman insists on helping coworker through...\n",
       "236      discover how climate change is rapidly transfo...\n",
       "Name: headline, Length: 19951, dtype: object"
      ]
     },
     "execution_count": 13,
     "metadata": {},
     "output_type": "execute_result"
    }
   ],
   "source": [
    "X_train"
   ]
  },
  {
   "cell_type": "code",
   "execution_count": 15,
   "metadata": {},
   "outputs": [
    {
     "name": "stdout",
     "output_type": "stream",
     "text": [
      "democrats fear that expectations for donald trump are a wee bit too low\n",
      "democrats fear expectations donald trump wee bit low\n"
     ]
    }
   ],
   "source": [
    "print(X_train[17425])\n",
    "print(clean(X_train[17425]))"
   ]
  },
  {
   "cell_type": "markdown",
   "metadata": {},
   "source": [
    "## Trying BoW representation"
   ]
  },
  {
   "cell_type": "markdown",
   "metadata": {
    "id": "TmWMRFwSMnQA"
   },
   "source": [
    "### NB on BoW"
   ]
  },
  {
   "cell_type": "code",
   "execution_count": 16,
   "metadata": {
    "colab": {
     "base_uri": "https://localhost:8080/"
    },
    "id": "_5mC8HYRbRCY",
    "outputId": "27dc1c8a-0303-46ae-e0c4-d28eae57789e"
   },
   "outputs": [
    {
     "name": "stdout",
     "output_type": "stream",
     "text": [
      "train data: (19951, 23705) test data: (6651, 23705)\n"
     ]
    }
   ],
   "source": [
    "## Preprocess and Vectorize train and test data\n",
    "\n",
    "## getting BoW representaiton for our data\n",
    "X_train_dtm, X_test_dtm = BoW_representation(X_train, X_test)"
   ]
  },
  {
   "cell_type": "code",
   "execution_count": 17,
   "metadata": {
    "colab": {
     "base_uri": "https://localhost:8080/",
     "height": 630
    },
    "id": "aC10S60tzzR9",
    "outputId": "b3909d64-f5e8-4a44-f91c-5d6b9a4ccb00"
   },
   "outputs": [
    {
     "name": "stdout",
     "output_type": "stream",
     "text": [
      "Prediction at training data\n",
      "F1 Score:  0.9094272007398416\n",
      "Recall:  0.8994969128744569\n",
      "Precision:  0.9195791934541204\n",
      "\n",
      "Prediction at testing data\n",
      "F1 Score:  0.7698300283286119\n",
      "Recall:  0.7483648881239243\n",
      "Precision:  0.7925628873496172\n"
     ]
    },
    {
     "data": {
      "image/png": "[encoded data removed]",
      "text/plain": [
       "<Figure size 576x432 with 2 Axes>"
      ]
     },
     "metadata": {
      "needs_background": "light"
     },
     "output_type": "display_data"
    }
   ],
   "source": [
    "y_pred_class_train, y_pred_class = naive_bayes(X_train_dtm, y_train, X_test_dtm)\n",
    "\n",
    "# Print accuracy:\n",
    "print(\"Prediction at training data\")\n",
    "print_metrics(y_train, y_pred_class_train)\n",
    "print()\n",
    "print(\"Prediction at testing data\")\n",
    "print_metrics(y_test, y_pred_class)\n",
    "# print the confusion matrix\n",
    "get_confusion_matrix(y_test, y_pred_class)"
   ]
  },
  {
   "cell_type": "markdown",
   "metadata": {},
   "source": [
    "### Observation\n",
    "\n",
    "- Model has train and test f1-score of 0.91 and 0.77 for full vocab. Good enough for a baseline.\n",
    "- NB with 10000 vocab gives about the same performance at test set, and we see less overfitting.\n",
    "- Using all 23705 features is causing overfitting in the model. In conclusion, using all 23705 isn't adding much value to the model.\n",
    "- Reason for MultinomialNB version Naive Bayes: In the sklearn website, it is mentioned that this version of the naive bayes is typically used/empirically better for text classification"
   ]
  },
  {
   "cell_type": "markdown",
   "metadata": {
    "id": "uyXpbHGlRHeC"
   },
   "source": [
    "### Logictic regression on BoW"
   ]
  },
  {
   "cell_type": "code",
   "execution_count": 18,
   "metadata": {
    "colab": {
     "base_uri": "https://localhost:8080/",
     "height": 579
    },
    "id": "Oi9mlPIle2WG",
    "outputId": "b8b19614-2391-49b3-f047-6a87813392d7"
   },
   "outputs": [
    {
     "name": "stdout",
     "output_type": "stream",
     "text": [
      "Prediction at training data\n",
      "F1 Score:  0.9492889115530625\n",
      "Recall:  0.957809284244226\n",
      "Precision:  0.9409187914186229\n",
      "\n",
      "Prediction at testing data\n",
      "F1 Score:  0.7615033368458025\n",
      "Recall:  0.7462994836488812\n",
      "Precision:  0.7773395482251703\n"
     ]
    },
    {
     "data": {
      "image/png": "[encoded data removed]",
      "text/plain": [
       "<Figure size 576x432 with 2 Axes>"
      ]
     },
     "metadata": {
      "needs_background": "light"
     },
     "output_type": "display_data"
    }
   ],
   "source": [
    "y_pred_class_train, y_pred_class = logistic_regression(X_train_dtm, y_train, X_test_dtm)\n",
    "\n",
    "# calculate evaluation measures:\n",
    "print(\"Prediction at training data\")\n",
    "print_metrics(y_train, y_pred_class_train)\n",
    "print()\n",
    "print(\"Prediction at testing data\")\n",
    "print_metrics(y_test, y_pred_class)\n",
    "\n",
    "get_confusion_matrix(y_test, y_pred_class)"
   ]
  },
  {
   "cell_type": "markdown",
   "metadata": {},
   "source": [
    "### Observation\n",
    "\n",
    "- More overfitted then NB\n",
    "- About same performance at test set"
   ]
  },
  {
   "cell_type": "markdown",
   "metadata": {
    "id": "UdImESIWj_fq"
   },
   "source": [
    "### SVM on BoW"
   ]
  },
  {
   "cell_type": "code",
   "execution_count": 19,
   "metadata": {
    "colab": {
     "base_uri": "https://localhost:8080/",
     "height": 596
    },
    "id": "bHO_0UhRkNfs",
    "outputId": "1625c146-f3d2-47c8-addc-855eabe93bea"
   },
   "outputs": [
    {
     "name": "stdout",
     "output_type": "stream",
     "text": [
      "train data: (19951, 10000) test data: (6651, 10000)\n",
      "Prediction at training data\n",
      "F1 Score:  0.9632620564149227\n",
      "Recall:  0.9683283786874\n",
      "Precision:  0.9582484725050916\n",
      "\n",
      "Prediction at testing data\n",
      "F1 Score:  0.7330427201394943\n",
      "Recall:  0.7235800344234079\n",
      "Precision:  0.742756183745583\n"
     ]
    },
    {
     "data": {
      "image/png": "[encoded data removed]",
      "text/plain": [
       "<Figure size 576x432 with 2 Axes>"
      ]
     },
     "metadata": {
      "needs_background": "light"
     },
     "output_type": "display_data"
    }
   ],
   "source": [
    "X_train_dtm, X_test_dtm = BoW_representation(X_train, X_test, max_features = 10000)\n",
    "y_pred_class_train, y_pred_class = svm(X_train_dtm, y_train, X_test_dtm)\n",
    "\n",
    "# calculate evaluation measures:\n",
    "print(\"Prediction at training data\")\n",
    "print_metrics(y_train, y_pred_class_train)\n",
    "print()\n",
    "print(\"Prediction at testing data\")\n",
    "print_metrics(y_test, y_pred_class)\n",
    "\n",
    "get_confusion_matrix(y_test, y_pred_class)"
   ]
  },
  {
   "cell_type": "markdown",
   "metadata": {},
   "source": [
    "### Observation\n",
    "\n",
    "- More overfitted then NB and logistic regression\n",
    "- Lower performance on test set\n",
    "- trying with 5000 features shows improvment in overfitting with no degredation in test set performance"
   ]
  },
  {
   "cell_type": "markdown",
   "metadata": {
    "id": "JWMKQPmMocFl"
   },
   "source": [
    "## Trying TF-IDF representation of text with the same settings"
   ]
  },
  {
   "cell_type": "markdown",
   "metadata": {
    "id": "PJUJvQRdk9dQ"
   },
   "source": [
    "### NB on TF-IDF"
   ]
  },
  {
   "cell_type": "code",
   "execution_count": 20,
   "metadata": {
    "colab": {
     "base_uri": "https://localhost:8080/"
    },
    "id": "fs_H7ALnmWEh",
    "outputId": "2cfbe74b-fd60-4566-bd5b-80368122f026"
   },
   "outputs": [
    {
     "name": "stdout",
     "output_type": "stream",
     "text": [
      "train data: (19951, 23705) test data: (6651, 23705)\n"
     ]
    }
   ],
   "source": [
    "## TF-IDF text representation for train_X and test_X\n",
    "X_train_tfidf, X_test_tfidf = tf_idf_representation(X_train, X_test)"
   ]
  },
  {
   "cell_type": "code",
   "execution_count": 21,
   "metadata": {},
   "outputs": [
    {
     "data": {
      "text/plain": [
       "scipy.sparse.csr.csr_matrix"
      ]
     },
     "execution_count": 21,
     "metadata": {},
     "output_type": "execute_result"
    }
   ],
   "source": [
    "type(X_train_tfidf)"
   ]
  },
  {
   "cell_type": "code",
   "execution_count": 22,
   "metadata": {
    "colab": {
     "base_uri": "https://localhost:8080/",
     "height": 613
    },
    "id": "H_JqTzNj_jK0",
    "outputId": "0f8ef268-713a-4937-8104-509ce6b8be65"
   },
   "outputs": [
    {
     "name": "stdout",
     "output_type": "stream",
     "text": [
      "Prediction at training data\n",
      "F1 Score:  0.8880574127461204\n",
      "Recall:  0.8276926595014864\n",
      "Precision:  0.9579198094481938\n",
      "\n",
      "Prediction at testing data\n",
      "F1 Score:  0.7311449785072294\n",
      "Recall:  0.6440619621342513\n",
      "Precision:  0.8454586534116584\n"
     ]
    },
    {
     "data": {
      "image/png": "[encoded data removed]",
      "text/plain": [
       "<Figure size 576x432 with 2 Axes>"
      ]
     },
     "metadata": {
      "needs_background": "light"
     },
     "output_type": "display_data"
    }
   ],
   "source": [
    "y_pred_class_train, y_pred_class = naive_bayes(X_train_tfidf, y_train, X_test_tfidf)\n",
    "\n",
    "# Print accuracy:\n",
    "print(\"Prediction at training data\")\n",
    "print_metrics(y_train, y_pred_class_train)\n",
    "print()\n",
    "print(\"Prediction at testing data\")\n",
    "print_metrics(y_test, y_pred_class)\n",
    "# print the confusion matrix\n",
    "get_confusion_matrix(y_test, y_pred_class)"
   ]
  },
  {
   "cell_type": "markdown",
   "metadata": {},
   "source": [
    "### Observation\n",
    "\n",
    "- Tf-IDF on NB is performing poor in compariso to the BoW representation.\n",
    "- High ovrefitting still observed.\n",
    "- Tf-IDf is performing good interms of accuracy as compared to Recall."
   ]
  },
  {
   "cell_type": "markdown",
   "metadata": {
    "id": "2I1Mop_mmAHz"
   },
   "source": [
    "### Logictic regression on TF-IDF"
   ]
  },
  {
   "cell_type": "code",
   "execution_count": 23,
   "metadata": {
    "colab": {
     "base_uri": "https://localhost:8080/",
     "height": 579
    },
    "id": "d2NHtfffmF7m",
    "outputId": "826ac7cb-500e-4825-a70a-d4c506994513"
   },
   "outputs": [
    {
     "name": "stdout",
     "output_type": "stream",
     "text": [
      "Prediction at training data\n",
      "F1 Score:  0.8963180483397335\n",
      "Recall:  0.9073862337068375\n",
      "Precision:  0.8855166257531801\n",
      "\n",
      "Prediction at testing data\n",
      "F1 Score:  0.7670053383847081\n",
      "Recall:  0.7666092943201377\n",
      "Precision:  0.7674017918676774\n"
     ]
    },
    {
     "data": {
      "image/png": "[encoded data removed]",
      "text/plain": [
       "<Figure size 576x432 with 2 Axes>"
      ]
     },
     "metadata": {
      "needs_background": "light"
     },
     "output_type": "display_data"
    }
   ],
   "source": [
    "y_pred_class_train, y_pred_class = logistic_regression(X_train_tfidf, y_train,  X_test_tfidf)\n",
    "\n",
    "# calculate evaluation measures:\n",
    "print(\"Prediction at training data\")\n",
    "print_metrics(y_train, y_pred_class_train)\n",
    "print()\n",
    "print(\"Prediction at testing data\")\n",
    "print_metrics(y_test, y_pred_class)\n",
    "\n",
    "get_confusion_matrix(y_test, y_pred_class)"
   ]
  },
  {
   "cell_type": "markdown",
   "metadata": {},
   "source": [
    "### Observation\n",
    "\n",
    "- Tf-IDF on LR is performing better in compariso to the BoW representation with LR.\n",
    "- High ovrefitting still observed,but less than BoW."
   ]
  },
  {
   "cell_type": "markdown",
   "metadata": {
    "id": "R_IaJZD3m3_i"
   },
   "source": [
    "### SVM on TF-IDF"
   ]
  },
  {
   "cell_type": "code",
   "execution_count": 24,
   "metadata": {
    "colab": {
     "base_uri": "https://localhost:8080/",
     "height": 596
    },
    "id": "_GJEB8MjmwPm",
    "outputId": "392fa5bd-0aa3-48cc-f319-012ab41e51c1"
   },
   "outputs": [
    {
     "name": "stdout",
     "output_type": "stream",
     "text": [
      "train data: (19951, 5000) test data: (6651, 5000)\n",
      "Prediction at training data\n",
      "F1 Score:  0.875339366515837\n",
      "Recall:  0.8847473130573976\n",
      "Precision:  0.8661293933288561\n",
      "\n",
      "Prediction at testing data\n",
      "F1 Score:  0.742086144265698\n",
      "Recall:  0.7383820998278829\n",
      "Precision:  0.7458275382475661\n"
     ]
    },
    {
     "data": {
      "image/png": "[encoded data removed]",
      "text/plain": [
       "<Figure size 576x432 with 2 Axes>"
      ]
     },
     "metadata": {
      "needs_background": "light"
     },
     "output_type": "display_data"
    }
   ],
   "source": [
    "X_train_tfidf, X_test_tfidf = tf_idf_representation(X_train, X_test, max_features=5000)\n",
    "y_pred_class_train, y_pred_class = svm(X_train_tfidf, y_train, X_test_tfidf)\n",
    "\n",
    "# calculate evaluation measures:\n",
    "print(\"Prediction at training data\")\n",
    "print_metrics(y_train, y_pred_class_train)\n",
    "print()\n",
    "print(\"Prediction at testing data\")\n",
    "print_metrics(y_test, y_pred_class)\n",
    "\n",
    "get_confusion_matrix(y_test, y_pred_class)"
   ]
  },
  {
   "cell_type": "markdown",
   "metadata": {},
   "source": [
    "### Observation\n",
    "\n",
    "- Tf-IDF on SVM is performing about same as BoW representation with SVM.\n",
    "- High ovrefitting still observed,but less than BoW.\n",
    "<br><br><br>"
   ]
  },
  {
   "cell_type": "markdown",
   "metadata": {},
   "source": [
    "## In conclusion\n",
    "\n",
    "- With BoW and Tf-IDF represenations, we have to deal large feature space. This is casusing the models to overfit. \n",
    "- To work with these represenations only as working solution, we can try reducing the feature space more, and using hand made feature and doing error analysis to improve performance.\n",
    "- But before doing point 2, it will be better to try out word2Vec with these algorithms which deals in less feature space. And also, each word vector has meaning associated with it. Which is not the case with either BoW or Tf-Idf."
   ]
  },
  {
   "cell_type": "markdown",
   "metadata": {
    "id": "NX4seNrrxtGJ"
   },
   "source": [
    "### word2vec"
   ]
  },
  {
   "cell_type": "code",
   "execution_count": 25,
   "metadata": {
    "colab": {
     "base_uri": "https://localhost:8080/"
    },
    "id": "dPOs5b70x38r",
    "outputId": "4646fba8-59b1-44eb-ffea-10624f27254f"
   },
   "outputs": [
    {
     "data": {
      "text/plain": [
       "12897    victoria's secret introduces 3-inch patch of s...\n",
       "23365                             the power of perspective\n",
       "17425    democrats fear that expectations for donald tr...\n",
       "15768     how we became the heaviest drinkers in a century\n",
       "7287     what the trump team should consider before axi...\n",
       "                               ...                        \n",
       "11018                 rain told to go away in 1986 returns\n",
       "17384    woman already off to bad start as mother after...\n",
       "5225     anne hathaway, james franco spend every moment...\n",
       "12245    area woman insists on helping coworker through...\n",
       "236      discover how climate change is rapidly transfo...\n",
       "Name: headline, Length: 19951, dtype: object"
      ]
     },
     "execution_count": 25,
     "metadata": {},
     "output_type": "execute_result"
    }
   ],
   "source": [
    "X_train"
   ]
  },
  {
   "cell_type": "code",
   "execution_count": 26,
   "metadata": {
    "id": "h5Re-hEcLvlC"
   },
   "outputs": [],
   "source": [
    "## Get word2vec representation for training and testing data\n",
    "X_train_we, X_test_we = word2Vec(X_train, X_test)"
   ]
  },
  {
   "cell_type": "code",
   "execution_count": 27,
   "metadata": {},
   "outputs": [
    {
     "data": {
      "text/plain": [
       "array([-0.23838546,  0.10318487,  0.13363733, -0.04988057,  0.07965822,\n",
       "        0.10855173,  0.10495087,  0.3963785 , -0.05049869,  0.07243779,\n",
       "        0.10436315,  0.09710588,  0.14620144,  0.21194598,  0.07483703,\n",
       "        0.2417487 ,  0.33634232, -0.0363492 ,  0.20186313, -0.36218156,\n",
       "       -0.11339798, -0.17872353, -0.08941489,  0.03141593,  0.40075113,\n",
       "        0.09936775, -0.01035727, -0.40433025, -0.05889492, -0.0409207 ,\n",
       "        0.15511656,  0.01877549, -0.0046575 , -0.18079315,  0.11046099,\n",
       "        0.22132397,  0.04336732,  0.26583716,  0.27680841,  0.06745079,\n",
       "        0.05373669, -0.38156036,  0.09302114, -0.23275759, -0.49860513,\n",
       "       -0.02463122, -0.20589512,  0.19480963,  0.05016181, -0.06960116,\n",
       "       -0.14915806,  0.07111554,  0.09218301,  0.92622259, -0.22857221,\n",
       "       -1.35715831, -0.14865681,  0.06287892,  0.74622282,  0.12930096,\n",
       "       -0.04630744,  0.54277058, -0.27054553,  0.32035827,  0.45623192,\n",
       "       -0.23982608,  0.20899709,  0.07825565, -0.06272355, -0.17354604,\n",
       "        0.10773362, -0.24736656,  0.0174553 ,  0.17655203,  0.20122096,\n",
       "        0.19221938, -0.08354782, -0.10178125, -0.1331961 ,  0.21104186,\n",
       "        0.15827481,  0.0455972 , -0.0905607 ,  0.33307921, -0.59943675,\n",
       "       -0.12706871,  0.29282975,  0.08070353,  0.29898074,  0.24447732,\n",
       "       -0.14487257,  0.02952496, -0.04892718, -0.07938865, -0.10860424,\n",
       "       -0.29121038, -0.28271577, -0.16376504,  0.21077324,  0.09054114])"
      ]
     },
     "execution_count": 27,
     "metadata": {},
     "output_type": "execute_result"
    }
   ],
   "source": [
    "X_train_we[0]"
   ]
  },
  {
   "cell_type": "code",
   "execution_count": 28,
   "metadata": {},
   "outputs": [
    {
     "data": {
      "text/plain": [
       "(100,)"
      ]
     },
     "execution_count": 28,
     "metadata": {},
     "output_type": "execute_result"
    }
   ],
   "source": [
    "X_train_we[0].shape"
   ]
  },
  {
   "cell_type": "markdown",
   "metadata": {},
   "source": [
    "### cannot try NB with word2vec, NB doesn't work with negative values in feature space."
   ]
  },
  {
   "cell_type": "code",
   "execution_count": 29,
   "metadata": {
    "colab": {
     "base_uri": "https://localhost:8080/",
     "height": 579
    },
    "id": "nomE7-mEILM6",
    "outputId": "ffe98319-168f-408b-f098-8fb29af58072"
   },
   "outputs": [
    {
     "name": "stdout",
     "output_type": "stream",
     "text": [
      "Prediction at training data\n",
      "F1 Score:  0.6794069192751235\n",
      "Recall:  0.707294763320375\n",
      "Precision:  0.6536348267117498\n",
      "\n",
      "Prediction at testing data\n",
      "F1 Score:  0.667888074616922\n",
      "Recall:  0.6901893287435457\n",
      "Precision:  0.6469828977089384\n"
     ]
    },
    {
     "data": {
      "image/png": "[encoded data removed]",
      "text/plain": [
       "<Figure size 576x432 with 2 Axes>"
      ]
     },
     "metadata": {
      "needs_background": "light"
     },
     "output_type": "display_data"
    }
   ],
   "source": [
    "# Preprocess and Vectorize train and test data\n",
    "y_pred_class_train, y_pred_class = logistic_regression(X_train_we, y_train, X_test_we)\n",
    "\n",
    "# Print accuracy:\n",
    "print(\"Prediction at training data\")\n",
    "print_metrics(y_train, y_pred_class_train)\n",
    "print()\n",
    "print(\"Prediction at testing data\")\n",
    "print_metrics(y_test, y_pred_class)\n",
    "# print the confusion matrix\n",
    "get_confusion_matrix(y_test, y_pred_class)"
   ]
  },
  {
   "cell_type": "code",
   "execution_count": 30,
   "metadata": {
    "colab": {
     "base_uri": "https://localhost:8080/",
     "height": 579
    },
    "id": "A1eYwpmyEk-q",
    "outputId": "234c4a2b-3894-4004-fdad-7e61dffdecb3"
   },
   "outputs": [
    {
     "name": "stderr",
     "output_type": "stream",
     "text": [
      "C:\\Users\\Daas\\anaconda3\\envs\\tensorflow_env\\lib\\site-packages\\sklearn\\svm\\_base.py:1206: ConvergenceWarning: Liblinear failed to converge, increase the number of iterations.\n",
      "  warnings.warn(\n"
     ]
    },
    {
     "name": "stdout",
     "output_type": "stream",
     "text": [
      "Prediction at training data\n",
      "F1 Score:  0.6797780585617756\n",
      "Recall:  0.707409101303453\n",
      "Precision:  0.6542243840541397\n",
      "\n",
      "Prediction at testing data\n",
      "F1 Score:  0.6683333333333333\n",
      "Recall:  0.6901893287435457\n",
      "Precision:  0.6478190630048465\n"
     ]
    },
    {
     "data": {
      "image/png": "[encoded data removed]",
      "text/plain": [
       "<Figure size 576x432 with 2 Axes>"
      ]
     },
     "metadata": {
      "needs_background": "light"
     },
     "output_type": "display_data"
    }
   ],
   "source": [
    "y_pred_class_train, y_pred_class = svm(X_train_we, y_train, X_test_we)\n",
    "\n",
    "# Print accuracy:\n",
    "print(\"Prediction at training data\")\n",
    "print_metrics(y_train, y_pred_class_train)\n",
    "print()\n",
    "print(\"Prediction at testing data\")\n",
    "print_metrics(y_test, y_pred_class)\n",
    "# print the confusion matrix\n",
    "get_confusion_matrix(y_test, y_pred_class)"
   ]
  },
  {
   "cell_type": "markdown",
   "metadata": {},
   "source": [
    "### Observations\n",
    "\n",
    "- word2vec is not able to fit the data properly. this can be seen as low F1-score as compared to Bow and Tf-Idf.\n",
    "- There little to no overfitting. This can be attributed to low feature space.\n",
    "- If choice to be made between BoW/Tf-IDF and word2vec, word2vec will be choice here, since:\n",
    "    - the f1-score is less only by a small margin.\n",
    "    - preformance should increase easily if we use a higher dimensional WE.\n",
    "    - using higher dimensional WE is easier than making hand features to improve performance in BoW/Tf-IDF."
   ]
  },
  {
   "cell_type": "markdown",
   "metadata": {
    "id": "3DggN25VPSC0"
   },
   "source": [
    "## Trying LSTM with word2vec"
   ]
  },
  {
   "cell_type": "code",
   "execution_count": 31,
   "metadata": {},
   "outputs": [],
   "source": [
    "## to get reproducible results\n",
    "\n",
    "from tensorflow import random\n",
    "from numpy.random import seed\n",
    "seed(1)\n",
    "random.set_seed(1)"
   ]
  },
  {
   "cell_type": "code",
   "execution_count": 32,
   "metadata": {
    "id": "_3DWc21APUHn"
   },
   "outputs": [],
   "source": [
    "from tensorflow.keras.preprocessing.text import Tokenizer \n",
    "from tensorflow.keras.preprocessing.sequence import pad_sequences\n",
    "from tensorflow.keras.layers import Dense, Input, LSTM, Embedding, Dropout, Flatten, Bidirectional\n",
    "from tensorflow.keras.models import Model, Sequential"
   ]
  },
  {
   "cell_type": "code",
   "execution_count": 33,
   "metadata": {},
   "outputs": [
    {
     "data": {
      "text/html": [
       "<div>\n",
       "<style scoped>\n",
       "    .dataframe tbody tr th:only-of-type {\n",
       "        vertical-align: middle;\n",
       "    }\n",
       "\n",
       "    .dataframe tbody tr th {\n",
       "        vertical-align: top;\n",
       "    }\n",
       "\n",
       "    .dataframe thead th {\n",
       "        text-align: right;\n",
       "    }\n",
       "</style>\n",
       "<table border=\"1\" class=\"dataframe\">\n",
       "  <thead>\n",
       "    <tr style=\"text-align: right;\">\n",
       "      <th></th>\n",
       "      <th>headline</th>\n",
       "      <th>is_sarcastic</th>\n",
       "    </tr>\n",
       "  </thead>\n",
       "  <tbody>\n",
       "    <tr>\n",
       "      <th>0</th>\n",
       "      <td>former versace store clerk sues over secret 'b...</td>\n",
       "      <td>0</td>\n",
       "    </tr>\n",
       "    <tr>\n",
       "      <th>1</th>\n",
       "      <td>the 'roseanne' revival catches up to our thorn...</td>\n",
       "      <td>0</td>\n",
       "    </tr>\n",
       "  </tbody>\n",
       "</table>\n",
       "</div>"
      ],
      "text/plain": [
       "                                            headline  is_sarcastic\n",
       "0  former versace store clerk sues over secret 'b...             0\n",
       "1  the 'roseanne' revival catches up to our thorn...             0"
      ]
     },
     "execution_count": 33,
     "metadata": {},
     "output_type": "execute_result"
    }
   ],
   "source": [
    "data_s.head(2)"
   ]
  },
  {
   "cell_type": "markdown",
   "metadata": {},
   "source": [
    "### Deciding on model parameters:\n",
    "\n",
    "- LSTM architecture expects the input to be of same length - Analysis done below\n",
    "- we will be using Adam optimizer with dafault learning rate of 0.001 for now. Other parameters of Adam optimizer also used on default setting.\n",
    "- Number of words to be used from the total vocabulary - ML models above performed well 10000 and 5000 as well. So, we will be using 10000 most frequent words for now with LSTM.\n",
    "- uisng glove 100d embedding: word2vec with LSTM has shown to give good performance.\n",
    "<br><br><br><br>\n",
    "- Model architecture is selected as Uni-directional LSTM for now. Reason being:\n",
    "    - We are choosing the sentence length as 15. So using memory cells feature of LSTM will definitely be helpful here to classify.\n",
    "    - Upon choosing LSTM, we need to choose wheather to use BI-LSTM or Uni-directional LSTM. For our usecase, we just need the model predict one outcome after going through each document, and not after each time-step. Uni-directional LSTM seems to be enough for this usecase. We will experiment with both LSTM and BI-LSTM.\n"
   ]
  },
  {
   "cell_type": "code",
   "execution_count": 34,
   "metadata": {
    "id": "LkGQ184kPZt1"
   },
   "outputs": [],
   "source": [
    "## setting features\n",
    "max_features = 10000  ## no of unique words in the vocabulary\n",
    "embedding_size = 100 ## length of word embedding\n",
    "\n",
    "num_words =  max_features+1\n",
    "## initializing tokenizer object, this pre-process the text documents as well\n",
    "tokenizer = Tokenizer(\n",
    "    num_words=num_words,\n",
    "     filters='!\"#$%&()*+,-./:;<=>?@[\\\\]^_`{|}~\\t\\n',\n",
    "     lower=True,\n",
    "     split=\" \",\n",
    "     oov_token = True)\n",
    "\n",
    "tokenizer.fit_on_texts(data_s['headline'])"
   ]
  },
  {
   "cell_type": "code",
   "execution_count": 35,
   "metadata": {
    "colab": {
     "base_uri": "https://localhost:8080/",
     "height": 111
    },
    "id": "Xe7xX3vQPlo1",
    "outputId": "cc3acb73-4b4f-4fd9-bfd4-7f33cc7b8283"
   },
   "outputs": [
    {
     "data": {
      "text/html": [
       "<div>\n",
       "<style scoped>\n",
       "    .dataframe tbody tr th:only-of-type {\n",
       "        vertical-align: middle;\n",
       "    }\n",
       "\n",
       "    .dataframe tbody tr th {\n",
       "        vertical-align: top;\n",
       "    }\n",
       "\n",
       "    .dataframe thead th {\n",
       "        text-align: right;\n",
       "    }\n",
       "</style>\n",
       "<table border=\"1\" class=\"dataframe\">\n",
       "  <thead>\n",
       "    <tr style=\"text-align: right;\">\n",
       "      <th></th>\n",
       "      <th>headline</th>\n",
       "      <th>is_sarcastic</th>\n",
       "    </tr>\n",
       "  </thead>\n",
       "  <tbody>\n",
       "    <tr>\n",
       "      <th>0</th>\n",
       "      <td>former versace store clerk sues over secret 'b...</td>\n",
       "      <td>0</td>\n",
       "    </tr>\n",
       "    <tr>\n",
       "      <th>1</th>\n",
       "      <td>the 'roseanne' revival catches up to our thorn...</td>\n",
       "      <td>0</td>\n",
       "    </tr>\n",
       "  </tbody>\n",
       "</table>\n",
       "</div>"
      ],
      "text/plain": [
       "                                            headline  is_sarcastic\n",
       "0  former versace store clerk sues over secret 'b...             0\n",
       "1  the 'roseanne' revival catches up to our thorn...             0"
      ]
     },
     "execution_count": 35,
     "metadata": {},
     "output_type": "execute_result"
    }
   ],
   "source": [
    "data_s.head(2)"
   ]
  },
  {
   "cell_type": "code",
   "execution_count": 36,
   "metadata": {
    "id": "XUUfaKFxPe5N"
   },
   "outputs": [],
   "source": [
    "data_s['tokenized_headline'] = tokenizer.texts_to_sequences(data_s['headline'])"
   ]
  },
  {
   "cell_type": "code",
   "execution_count": 37,
   "metadata": {},
   "outputs": [
    {
     "data": {
      "text/html": [
       "<div>\n",
       "<style scoped>\n",
       "    .dataframe tbody tr th:only-of-type {\n",
       "        vertical-align: middle;\n",
       "    }\n",
       "\n",
       "    .dataframe tbody tr th {\n",
       "        vertical-align: top;\n",
       "    }\n",
       "\n",
       "    .dataframe thead th {\n",
       "        text-align: right;\n",
       "    }\n",
       "</style>\n",
       "<table border=\"1\" class=\"dataframe\">\n",
       "  <thead>\n",
       "    <tr style=\"text-align: right;\">\n",
       "      <th></th>\n",
       "      <th>headline</th>\n",
       "      <th>is_sarcastic</th>\n",
       "      <th>tokenized_headline</th>\n",
       "    </tr>\n",
       "  </thead>\n",
       "  <tbody>\n",
       "    <tr>\n",
       "      <th>0</th>\n",
       "      <td>former versace store clerk sues over secret 'b...</td>\n",
       "      <td>0</td>\n",
       "      <td>[308, 1, 677, 3611, 2293, 48, 382, 2566, 1, 6,...</td>\n",
       "    </tr>\n",
       "    <tr>\n",
       "      <th>1</th>\n",
       "      <td>the 'roseanne' revival catches up to our thorn...</td>\n",
       "      <td>0</td>\n",
       "      <td>[4, 8414, 3332, 2741, 22, 2, 165, 8415, 414, 3...</td>\n",
       "    </tr>\n",
       "  </tbody>\n",
       "</table>\n",
       "</div>"
      ],
      "text/plain": [
       "                                            headline  is_sarcastic  \\\n",
       "0  former versace store clerk sues over secret 'b...             0   \n",
       "1  the 'roseanne' revival catches up to our thorn...             0   \n",
       "\n",
       "                                  tokenized_headline  \n",
       "0  [308, 1, 677, 3611, 2293, 48, 382, 2566, 1, 6,...  \n",
       "1  [4, 8414, 3332, 2741, 22, 2, 165, 8415, 414, 3...  "
      ]
     },
     "execution_count": 37,
     "metadata": {},
     "output_type": "execute_result"
    }
   ],
   "source": [
    "data_s.head(2)"
   ]
  },
  {
   "cell_type": "code",
   "execution_count": 38,
   "metadata": {},
   "outputs": [
    {
     "data": {
      "text/plain": [
       "count    26602.000000\n",
       "mean        10.063867\n",
       "std          3.206280\n",
       "min          2.000000\n",
       "25%          8.000000\n",
       "50%         10.000000\n",
       "75%         12.000000\n",
       "max         40.000000\n",
       "Name: len, dtype: float64"
      ]
     },
     "execution_count": 38,
     "metadata": {},
     "output_type": "execute_result"
    }
   ],
   "source": [
    "data_s['len']  = data_s.apply(lambda x : len(x['tokenized_headline']), axis = 1)\n",
    "data_s['len'].describe()"
   ]
  },
  {
   "cell_type": "markdown",
   "metadata": {},
   "source": [
    "<b>75% value comes at length 12, so chossing 15 as document the length. This will make sure that for about 80% of documents, we are not trimming anything.</b>"
   ]
  },
  {
   "cell_type": "code",
   "execution_count": 39,
   "metadata": {
    "colab": {
     "base_uri": "https://localhost:8080/"
    },
    "id": "8XSYYpzXPn-V",
    "outputId": "eae0db9a-cc0d-4628-c4b3-827f963e42b6"
   },
   "outputs": [
    {
     "name": "stdout",
     "output_type": "stream",
     "text": [
      "Number of Samples: 26602\n",
      "[   0    0    0  308    1  677 3611 2293   48  382 2566    1    6 2567\n",
      " 8413]\n",
      "Number of Labels:  26602\n",
      "0\n"
     ]
    }
   ],
   "source": [
    "maxlen = 15 ## no of words to use from each headline\n",
    "\n",
    "X = data_s['tokenized_headline']\n",
    "X = pad_sequences(X, maxlen = maxlen, value=0.0)\n",
    "y = np.asarray(data_s['is_sarcastic'])\n",
    "\n",
    "print(\"Number of Samples:\", len(X))\n",
    "print(X[0])\n",
    "print(\"Number of Labels: \", len(y))\n",
    "print(y[0])"
   ]
  },
  {
   "cell_type": "code",
   "execution_count": 40,
   "metadata": {
    "colab": {
     "base_uri": "https://localhost:8080/"
    },
    "id": "I9L-dsW1SHEo",
    "outputId": "7d5bea57-7ffd-4970-99c4-a837f46b9c25"
   },
   "outputs": [
    {
     "name": "stdout",
     "output_type": "stream",
     "text": [
      "Number of words originally present: 29658\n",
      "Numer of words in our vocabulary:  10000 .Since, we had set num_words argumnet while defining tokenizer object\n"
     ]
    }
   ],
   "source": [
    "print('Number of words originally present:', len(tokenizer.word_index) + 1)\n",
    "\n",
    "print('Numer of words in our vocabulary: ', max_features, '.Since, we had set num_words argumnet while defining tokenizer object')"
   ]
  },
  {
   "cell_type": "code",
   "execution_count": 41,
   "metadata": {
    "id": "19l-ouCRTBX5"
   },
   "outputs": [],
   "source": [
    "vocab = take(num_words, tokenizer.word_index.items())"
   ]
  },
  {
   "cell_type": "markdown",
   "metadata": {},
   "source": [
    "## Sanity check for word embeddings(WE)\n",
    "\n",
    "- When using WE, We should check the overlap between our dictionary with WE that we are using. An 80% or above overlap in known to give good results"
   ]
  },
  {
   "cell_type": "code",
   "execution_count": 42,
   "metadata": {},
   "outputs": [
    {
     "name": "stdout",
     "output_type": "stream",
     "text": [
      "vocab intersection: 0.9315068493150684\n"
     ]
    }
   ],
   "source": [
    "## making embedding dictionary\n",
    "embeddings = make_embedding_dict()\n",
    "\n",
    "## checking for vocab intersection\n",
    "words=set(vocab.keys())\n",
    "embeddings_words = set(embeddings.keys())\n",
    "intersect_word = words.intersection(embeddings_words)\n",
    "\n",
    "print(\"vocab intersection:\", len(intersect_word)/ len(vocab))"
   ]
  },
  {
   "cell_type": "markdown",
   "metadata": {},
   "source": [
    "<b>We have an vocab intersection of 93%. We are in the green zone.</b>"
   ]
  },
  {
   "cell_type": "code",
   "execution_count": 43,
   "metadata": {
    "colab": {
     "base_uri": "https://localhost:8080/"
    },
    "id": "VEKVd-bKSRNq",
    "outputId": "fff4aa63-69ee-442c-b381-150b7ba974db"
   },
   "outputs": [
    {
     "data": {
      "text/plain": [
       "400000"
      ]
     },
     "execution_count": 43,
     "metadata": {},
     "output_type": "execute_result"
    }
   ],
   "source": [
    "## making embedding_matrix to give as input to the model\n",
    "embedding_matrix = np.zeros((num_words+1, 100))\n",
    "\n",
    "for word, i in vocab.items():\n",
    "    embedding_vector = embeddings.get(word)\n",
    "    if embedding_vector is not None:\n",
    "        embedding_matrix[i] = embedding_vector\n",
    "\n",
    "len(embeddings.values())"
   ]
  },
  {
   "cell_type": "code",
   "execution_count": 44,
   "metadata": {
    "id": "Kg3jMTqTRb68"
   },
   "outputs": [],
   "source": [
    "# Defining the Keras model\n",
    "model = Sequential()\n",
    "model.add(Embedding(num_words + 1, embedding_size, weights=[embedding_matrix], input_length=maxlen, trainable=False))\n",
    "model.add(Dropout(0.50))\n",
    "\n",
    "# model.add(Bidirectional(LSTM(128, return_sequences=True)))  ## un-comment for experimenting with BI-LSTM\n",
    "model.add(LSTM(128, return_sequences=True))\n",
    "model.add(Dropout(0.50))\n",
    "\n",
    "model.add(Flatten())\n",
    "model.add(Dropout(0.50))\n",
    "\n",
    "model.add(Dense(1, activation='sigmoid'))"
   ]
  },
  {
   "cell_type": "code",
   "execution_count": 45,
   "metadata": {
    "colab": {
     "base_uri": "https://localhost:8080/"
    },
    "id": "dXkLFR1rRohw",
    "outputId": "f60e6b7f-08c4-4002-8e23-7ec63b3f51c5",
    "scrolled": true
   },
   "outputs": [
    {
     "name": "stdout",
     "output_type": "stream",
     "text": [
      "Model: \"sequential\"\n",
      "_________________________________________________________________\n",
      "Layer (type)                 Output Shape              Param #   \n",
      "=================================================================\n",
      "embedding (Embedding)        (None, 15, 100)           1000200   \n",
      "_________________________________________________________________\n",
      "dropout (Dropout)            (None, 15, 100)           0         \n",
      "_________________________________________________________________\n",
      "lstm (LSTM)                  (None, 15, 128)           117248    \n",
      "_________________________________________________________________\n",
      "dropout_1 (Dropout)          (None, 15, 128)           0         \n",
      "_________________________________________________________________\n",
      "flatten (Flatten)            (None, 1920)              0         \n",
      "_________________________________________________________________\n",
      "dropout_2 (Dropout)          (None, 1920)              0         \n",
      "_________________________________________________________________\n",
      "dense (Dense)                (None, 1)                 1921      \n",
      "=================================================================\n",
      "Total params: 1,119,369\n",
      "Trainable params: 119,169\n",
      "Non-trainable params: 1,000,200\n",
      "_________________________________________________________________\n"
     ]
    }
   ],
   "source": [
    "model.summary()"
   ]
  },
  {
   "cell_type": "code",
   "execution_count": 46,
   "metadata": {
    "id": "q2LUCpKHTg4u"
   },
   "outputs": [],
   "source": [
    "## Model Configuration\n",
    "batch_size = 100\n",
    "number_of_epochs = 10\n",
    "\n",
    "loss_function = 'binary_crossentropy'\n",
    "optimizer = 'adam'\n",
    "additional_metrics = ['accuracy']\n",
    "verbosity_mode = True"
   ]
  },
  {
   "cell_type": "code",
   "execution_count": 47,
   "metadata": {
    "id": "3-iYPDE7WN0R"
   },
   "outputs": [
    {
     "data": {
      "text/plain": [
       "((19951, 15), (6651, 15), (19951,), (6651,))"
      ]
     },
     "execution_count": 47,
     "metadata": {},
     "output_type": "execute_result"
    }
   ],
   "source": [
    "X_train, X_test, y_train, y_test = train_test_split(X, y, random_state=1)\n",
    "X_train.shape, X_test.shape, y_train.shape, y_test.shape"
   ]
  },
  {
   "cell_type": "code",
   "execution_count": 48,
   "metadata": {
    "colab": {
     "base_uri": "https://localhost:8080/"
    },
    "id": "o_mKZKTWVDJP",
    "outputId": "95e471e3-6fb1-4081-d9f2-083b350ec444"
   },
   "outputs": [
    {
     "data": {
      "text/plain": [
       "array([[   0,    0, 6831, ..., 4579,    8,  299],\n",
       "       [   0,    0,    0, ...,  355,    3, 2359],\n",
       "       [   0,    0,  376, ..., 2418,  151,  768],\n",
       "       ...,\n",
       "       [   0,    0, 2812, ...,   43, 6602,    1],\n",
       "       [   0,    0,    0, ...,  174,  607,  503],\n",
       "       [   0,    0,    0, ...,   10,  909,    1]])"
      ]
     },
     "execution_count": 48,
     "metadata": {},
     "output_type": "execute_result"
    }
   ],
   "source": [
    "X_train"
   ]
  },
  {
   "cell_type": "code",
   "execution_count": 49,
   "metadata": {
    "colab": {
     "base_uri": "https://localhost:8080/"
    },
    "id": "z0AmuZTXTo1_",
    "outputId": "d83e4901-d357-4768-9848-252b07688b10"
   },
   "outputs": [
    {
     "name": "stdout",
     "output_type": "stream",
     "text": [
      "Epoch 1/10\n",
      "200/200 [==============================] - 18s 54ms/step - loss: 0.6211 - accuracy: 0.6501 - val_loss: 0.5130 - val_accuracy: 0.7510\n",
      "Epoch 2/10\n",
      "200/200 [==============================] - 10s 49ms/step - loss: 0.5464 - accuracy: 0.7225 - val_loss: 0.4469 - val_accuracy: 0.7964\n",
      "Epoch 3/10\n",
      "200/200 [==============================] - 11s 55ms/step - loss: 0.4885 - accuracy: 0.7623 - val_loss: 0.4145 - val_accuracy: 0.8056\n",
      "Epoch 4/10\n",
      "200/200 [==============================] - 10s 50ms/step - loss: 0.4510 - accuracy: 0.7853 - val_loss: 0.3897 - val_accuracy: 0.8245\n",
      "Epoch 5/10\n",
      "200/200 [==============================] - 10s 50ms/step - loss: 0.4329 - accuracy: 0.7960 - val_loss: 0.3872 - val_accuracy: 0.8218\n",
      "Epoch 6/10\n",
      "200/200 [==============================] - 10s 50ms/step - loss: 0.4229 - accuracy: 0.8020 - val_loss: 0.3577 - val_accuracy: 0.8430\n",
      "Epoch 7/10\n",
      "200/200 [==============================] - 10s 50ms/step - loss: 0.4056 - accuracy: 0.8138 - val_loss: 0.3602 - val_accuracy: 0.8414\n",
      "Epoch 8/10\n",
      "200/200 [==============================] - 10s 52ms/step - loss: 0.4077 - accuracy: 0.8112 - val_loss: 0.3531 - val_accuracy: 0.8456\n",
      "Epoch 9/10\n",
      "200/200 [==============================] - 10s 51ms/step - loss: 0.3924 - accuracy: 0.8220 - val_loss: 0.3446 - val_accuracy: 0.8483\n",
      "Epoch 10/10\n",
      "200/200 [==============================] - 11s 53ms/step - loss: 0.3816 - accuracy: 0.8268 - val_loss: 0.3342 - val_accuracy: 0.8530\n"
     ]
    }
   ],
   "source": [
    "# Compile the model\n",
    "model.compile(optimizer=optimizer, loss=loss_function, metrics=additional_metrics)\n",
    "\n",
    "# Train the model\n",
    "history = model.fit(X_train, y_train, epochs=number_of_epochs,\n",
    "                    batch_size=batch_size, \n",
    "                    verbose=verbosity_mode, \n",
    "                    validation_data=(X_test,y_test))"
   ]
  },
  {
   "cell_type": "markdown",
   "metadata": {},
   "source": [
    "#### Epoch count\n",
    "- At 5 epochs, we see that val error is still incresing well. Higher epoch count should be tried\n",
    "- At 10 epochs, about same f1-score, but recall is higher, which is better suited for us. Selecting epoch count as 10 for further experimentation. "
   ]
  },
  {
   "cell_type": "code",
   "execution_count": 50,
   "metadata": {},
   "outputs": [
    {
     "data": {
      "text/plain": [
       "array([[   0,    0,    0, ...,  554,   29, 2122],\n",
       "       [   0,    0,    0, ...,  268,  130,  104],\n",
       "       [   0,    0,    0, ..., 8068,   64, 1171],\n",
       "       ...,\n",
       "       [   0,    0,    0, ..., 5336,  250, 1768],\n",
       "       [ 731,   93, 1959, ...,    4,  330, 3057],\n",
       "       [   0,    0,    0, ...,  470,    8, 5283]])"
      ]
     },
     "execution_count": 50,
     "metadata": {},
     "output_type": "execute_result"
    }
   ],
   "source": [
    "X_test"
   ]
  },
  {
   "cell_type": "code",
   "execution_count": 51,
   "metadata": {
    "id": "jdtdi5C2UDfE"
   },
   "outputs": [],
   "source": [
    "## getting prediction from the trained model\n",
    "y_pred_prob = model.predict(X_test).flatten()\n",
    "y_pred_prob_train = model.predict(X_train).flatten()"
   ]
  },
  {
   "cell_type": "code",
   "execution_count": 52,
   "metadata": {
    "id": "ILMb2l2draO1"
   },
   "outputs": [],
   "source": [
    "threshold = 0.35\n",
    "y_pred_class = get_class(y_pred_prob, threshold)\n",
    "y_pred_class_train = get_class(y_pred_prob_train, threshold)"
   ]
  },
  {
   "cell_type": "code",
   "execution_count": 53,
   "metadata": {
    "colab": {
     "base_uri": "https://localhost:8080/",
     "height": 562
    },
    "id": "NAsWncQqe7EP",
    "outputId": "47b72aee-38e3-4609-e7aa-05cc0dce9620",
    "scrolled": true
   },
   "outputs": [
    {
     "name": "stdout",
     "output_type": "stream",
     "text": [
      "Prediciton on training data\n",
      "F1 Score:  0.8588754720995798\n",
      "Recall:  0.9230505373885205\n",
      "Precision:  0.8030438675022381\n",
      "\n",
      "Prediction at testing data\n",
      "F1 Score:  0.8348049446139028\n",
      "Recall:  0.8950086058519794\n",
      "Precision:  0.7821901323706378\n"
     ]
    },
    {
     "data": {
      "image/png": "[encoded data removed]",
      "text/plain": [
       "<Figure size 576x432 with 2 Axes>"
      ]
     },
     "metadata": {
      "needs_background": "light"
     },
     "output_type": "display_data"
    }
   ],
   "source": [
    "# calculate evaluation measures:\n",
    "# print(\"Prediction at training data\")\n",
    "print(\"Prediciton on training data\")\n",
    "print_metrics(y_train, y_pred_class_train)\n",
    "print()\n",
    "print(\"Prediction at testing data\")\n",
    "print_metrics(y_test, y_pred_class)\n",
    "\n",
    "get_confusion_matrix(y_test, y_pred_class)"
   ]
  },
  {
   "cell_type": "markdown",
   "metadata": {},
   "source": [
    "## Oberservations\n",
    "\n",
    "- This is by far the best result obatined.\n",
    "- Overfitting is very less compared to above scenarios.\n",
    "- f1-score is better compared to above scenarios.\n",
    "- **Selcting this model as the one to be deployed for now**. Therefore, going a bit deeper into the predicitons for this one, and see if we can increase the performance.\n",
    "- Also, no performance jump is observed by using BI-LSTM. Choosing LSTM as our choice of model."
   ]
  },
  {
   "cell_type": "markdown",
   "metadata": {},
   "source": [
    "# Error analysis\n",
    "\n",
    "- Important part to improve model performance"
   ]
  },
  {
   "cell_type": "markdown",
   "metadata": {},
   "source": [
    "### Generating text back from the tokenized text. Useful, in-case we want to read the original text while doing error analysis"
   ]
  },
  {
   "cell_type": "code",
   "execution_count": 54,
   "metadata": {},
   "outputs": [],
   "source": [
    "X_test_padding_removed = []\n",
    "for seq in X_test:\n",
    "    X_test_padding_removed.append([item for item in seq if item not in  [0,1]]) ## removing 0 - OOV and 1 - True\n",
    "    \n",
    "seq_to_text =  tokenizer.sequences_to_texts(X_test_padding_removed)"
   ]
  },
  {
   "cell_type": "code",
   "execution_count": 55,
   "metadata": {},
   "outputs": [],
   "source": [
    "X_test_df = pd.DataFrame({'News_Headline': seq_to_text, \n",
    "                          'True_label': y_test, \n",
    "                          'Predicted_label': y_pred_class, \n",
    "                         'Predicted_Prob': y_pred_prob.flatten()})"
   ]
  },
  {
   "cell_type": "code",
   "execution_count": 56,
   "metadata": {},
   "outputs": [
    {
     "data": {
      "text/plain": [
       "(6651, 4)"
      ]
     },
     "execution_count": 56,
     "metadata": {},
     "output_type": "execute_result"
    }
   ],
   "source": [
    "X_test_df.shape"
   ]
  },
  {
   "cell_type": "code",
   "execution_count": 57,
   "metadata": {},
   "outputs": [
    {
     "data": {
      "text/html": [
       "<div>\n",
       "<style scoped>\n",
       "    .dataframe tbody tr th:only-of-type {\n",
       "        vertical-align: middle;\n",
       "    }\n",
       "\n",
       "    .dataframe tbody tr th {\n",
       "        vertical-align: top;\n",
       "    }\n",
       "\n",
       "    .dataframe thead th {\n",
       "        text-align: right;\n",
       "    }\n",
       "</style>\n",
       "<table border=\"1\" class=\"dataframe\">\n",
       "  <thead>\n",
       "    <tr style=\"text-align: right;\">\n",
       "      <th></th>\n",
       "      <th>News_Headline</th>\n",
       "      <th>True_label</th>\n",
       "      <th>Predicted_label</th>\n",
       "      <th>Predicted_Prob</th>\n",
       "    </tr>\n",
       "  </thead>\n",
       "  <tbody>\n",
       "    <tr>\n",
       "      <th>0</th>\n",
       "      <td>woman assures you she's not mad</td>\n",
       "      <td>1</td>\n",
       "      <td>1</td>\n",
       "      <td>0.956683</td>\n",
       "    </tr>\n",
       "    <tr>\n",
       "      <th>1</th>\n",
       "      <td>insurers blast new in senate health bill</td>\n",
       "      <td>0</td>\n",
       "      <td>0</td>\n",
       "      <td>0.182534</td>\n",
       "    </tr>\n",
       "    <tr>\n",
       "      <th>2</th>\n",
       "      <td>stock car booed off track</td>\n",
       "      <td>1</td>\n",
       "      <td>1</td>\n",
       "      <td>0.876972</td>\n",
       "    </tr>\n",
       "    <tr>\n",
       "      <th>3</th>\n",
       "      <td>jones tells jimmy fallon he doesn't want to pl...</td>\n",
       "      <td>1</td>\n",
       "      <td>1</td>\n",
       "      <td>0.628009</td>\n",
       "    </tr>\n",
       "    <tr>\n",
       "      <th>4</th>\n",
       "      <td>holy crap british artist will cast your in bro...</td>\n",
       "      <td>0</td>\n",
       "      <td>0</td>\n",
       "      <td>0.311876</td>\n",
       "    </tr>\n",
       "  </tbody>\n",
       "</table>\n",
       "</div>"
      ],
      "text/plain": [
       "                                       News_Headline  True_label  \\\n",
       "0                    woman assures you she's not mad           1   \n",
       "1           insurers blast new in senate health bill           0   \n",
       "2                          stock car booed off track           1   \n",
       "3  jones tells jimmy fallon he doesn't want to pl...           1   \n",
       "4  holy crap british artist will cast your in bro...           0   \n",
       "\n",
       "   Predicted_label  Predicted_Prob  \n",
       "0                1        0.956683  \n",
       "1                0        0.182534  \n",
       "2                1        0.876972  \n",
       "3                1        0.628009  \n",
       "4                0        0.311876  "
      ]
     },
     "execution_count": 57,
     "metadata": {},
     "output_type": "execute_result"
    }
   ],
   "source": [
    "X_test_df.head()"
   ]
  },
  {
   "cell_type": "code",
   "execution_count": 58,
   "metadata": {},
   "outputs": [
    {
     "data": {
      "text/plain": [
       "0    3746\n",
       "1    2905\n",
       "Name: True_label, dtype: int64"
      ]
     },
     "execution_count": 58,
     "metadata": {},
     "output_type": "execute_result"
    }
   ],
   "source": [
    "X_test_df['True_label'].value_counts()"
   ]
  },
  {
   "cell_type": "code",
   "execution_count": 59,
   "metadata": {},
   "outputs": [
    {
     "data": {
      "text/plain": [
       "count    2905.000000\n",
       "mean        0.746628\n",
       "std         0.251980\n",
       "min         0.009192\n",
       "25%         0.602407\n",
       "50%         0.836891\n",
       "75%         0.953295\n",
       "max         0.999736\n",
       "Name: Predicted_Prob, dtype: float64"
      ]
     },
     "execution_count": 59,
     "metadata": {},
     "output_type": "execute_result"
    }
   ],
   "source": [
    "## probablity stats for True_label=1 \n",
    "X_test_df.loc[(X_test_df.True_label) == 1, 'Predicted_Prob'].describe()"
   ]
  },
  {
   "cell_type": "code",
   "execution_count": 60,
   "metadata": {},
   "outputs": [
    {
     "data": {
      "text/plain": [
       "count    3746.000000\n",
       "mean        0.190236\n",
       "std         0.224531\n",
       "min         0.000942\n",
       "25%         0.029225\n",
       "50%         0.089718\n",
       "75%         0.273564\n",
       "max         0.990499\n",
       "Name: Predicted_Prob, dtype: float64"
      ]
     },
     "execution_count": 60,
     "metadata": {},
     "output_type": "execute_result"
    }
   ],
   "source": [
    "## probablity stats for True_label=1 \n",
    "X_test_df.loc[(X_test_df.True_label) == 0, 'Predicted_Prob'].describe()"
   ]
  },
  {
   "cell_type": "markdown",
   "metadata": {},
   "source": [
    "#### Observation from probability distribution\n",
    "\n",
    "Observing these probablity numbers at 75% in the above two cells tells us that the model is doing a pretty good job,\n",
    "i.e. for most example,either positive or negative they seggregated quite well. <br> <br>\n",
    "\n",
    "this also tells us that we can play around with the threshold of 0.50 to focus on either precision or recall with the\n",
    "same model"
   ]
  },
  {
   "cell_type": "markdown",
   "metadata": {},
   "source": [
    "### Intuition behind changing the threshold value\n",
    "\n",
    "- As per our scenario, we want the Recall to be maximized. Therefore, by reducing the threshold from 0.5, if we can get jump the recall without hurting the f1-score too much, then it will be of value.\n",
    "- Let's try 0.4 and 0.35 as threshold values. \n",
    "- Note: Threshold value should be obtained by AUC-ROC curve."
   ]
  },
  {
   "cell_type": "code",
   "execution_count": 61,
   "metadata": {},
   "outputs": [],
   "source": [
    "y_pred_class = get_class(y_pred_prob, 0.4)\n",
    "y_pred_class_train = get_class(y_pred_prob_train, 0.4)"
   ]
  },
  {
   "cell_type": "code",
   "execution_count": 62,
   "metadata": {},
   "outputs": [
    {
     "name": "stdout",
     "output_type": "stream",
     "text": [
      "Prediciton on training data\n",
      "F1 Score:  0.8623742894621775\n",
      "Recall:  0.9020123485021724\n",
      "Precision:  0.8260732984293194\n",
      "\n",
      "Prediction at testing data\n",
      "F1 Score:  0.8333333333333333\n",
      "Recall:  0.8726333907056799\n",
      "Precision:  0.7974205725070777\n"
     ]
    },
    {
     "data": {
      "image/png": "[encoded data removed]",
      "text/plain": [
       "<Figure size 576x432 with 2 Axes>"
      ]
     },
     "metadata": {
      "needs_background": "light"
     },
     "output_type": "display_data"
    }
   ],
   "source": [
    "# calculate evaluation measures:\n",
    "# print(\"Prediction at training data\")\n",
    "print(\"Prediciton on training data\")\n",
    "print_metrics(y_train, y_pred_class_train)\n",
    "print()\n",
    "print(\"Prediction at testing data\")\n",
    "print_metrics(y_test, y_pred_class)\n",
    "\n",
    "get_confusion_matrix(y_test, y_pred_class)"
   ]
  },
  {
   "cell_type": "markdown",
   "metadata": {},
   "source": [
    "### we can see a jump in both F1-score and Recall"
   ]
  },
  {
   "cell_type": "code",
   "execution_count": 63,
   "metadata": {},
   "outputs": [],
   "source": [
    "## trying threshold = 0.35\n",
    "\n",
    "y_pred_class = get_class(y_pred_prob, 0.35)\n",
    "y_pred_class_train = get_class(y_pred_prob_train, 0.35)"
   ]
  },
  {
   "cell_type": "code",
   "execution_count": 64,
   "metadata": {},
   "outputs": [
    {
     "name": "stdout",
     "output_type": "stream",
     "text": [
      "Prediciton on training data\n",
      "F1 Score:  0.8588754720995798\n",
      "Recall:  0.9230505373885205\n",
      "Precision:  0.8030438675022381\n",
      "\n",
      "Prediction at testing data\n",
      "F1 Score:  0.8348049446139028\n",
      "Recall:  0.8950086058519794\n",
      "Precision:  0.7821901323706378\n"
     ]
    },
    {
     "data": {
      "image/png": "[encoded data removed]",
      "text/plain": [
       "<Figure size 576x432 with 2 Axes>"
      ]
     },
     "metadata": {
      "needs_background": "light"
     },
     "output_type": "display_data"
    }
   ],
   "source": [
    "# calculate evaluation measures:\n",
    "# print(\"Prediction at training data\")\n",
    "print(\"Prediciton on training data\")\n",
    "print_metrics(y_train, y_pred_class_train)\n",
    "print()\n",
    "print(\"Prediction at testing data\")\n",
    "print_metrics(y_test, y_pred_class)\n",
    "\n",
    "get_confusion_matrix(y_test, y_pred_class)"
   ]
  },
  {
   "cell_type": "code",
   "execution_count": 65,
   "metadata": {},
   "outputs": [
    {
     "data": {
      "image/png": "[encoded data removed]",
      "text/plain": [
       "<Figure size 432x288 with 1 Axes>"
      ]
     },
     "metadata": {
      "needs_background": "light"
     },
     "output_type": "display_data"
    }
   ],
   "source": [
    "## Visualizing training process and overfitting\n",
    "\n",
    "import matplotlib.pyplot as plt\n",
    "\n",
    "plt.plot(history.history['accuracy'])\n",
    "plt.plot(history.history['val_accuracy'])\n",
    "plt.title('model accuracy')\n",
    "plt.ylabel('accuracy')\n",
    "plt.xlabel('epoch')\n",
    "plt.legend(['train', 'val'], loc='upper left')\n",
    "plt.show()"
   ]
  },
  {
   "cell_type": "markdown",
   "metadata": {},
   "source": [
    "### The Recall further increased to 89.5%, while f1-score hasn't decreased.\n",
    "\n",
    "- With Recall at almost 90%, we can deploy this model for testing purpose on incoming headlines.\n",
    "- This way we can collect more data, can also see the performance of our model on live data.\n",
    "- In general, while this model is deployed, at the backend, we will continue to improve the model. "
   ]
  },
  {
   "cell_type": "markdown",
   "metadata": {},
   "source": [
    "### Further things that can be done on error-analysis\n",
    "\n",
    "- look at samples examples of both correctly and incorrectly classified examples to get an idea of how our model is performing\n",
    "- among the misclassified examples manully seen, seggregating them into different categories, i.e. examples getting misclassified from one reason should be in one category. Post this, based which type of error is more crucial and which is more percentage should be focused upon. This choice depends on business usecase. "
   ]
  },
  {
   "cell_type": "markdown",
   "metadata": {},
   "source": [
    "# Future Scope\n",
    "\n",
    "- Do hypermeter tuning for LSTM model. As currently, mostly default parameters are used.\n",
    "- Doing Manual error analysis to see if there is pattern in examples getting mis-classified.\n",
    "- trying 300 dimensional word embeddings.\n",
    "- Trying Transformers to get representation of the document. "
   ]
  },
  {
   "cell_type": "markdown",
   "metadata": {
    "id": "wmXYSP20kdvi"
   },
   "source": [
    "###  Saving the selected trained model for usage during deployment time"
   ]
  },
  {
   "cell_type": "code",
   "execution_count": 68,
   "metadata": {},
   "outputs": [],
   "source": [
    "## saving both the model architectuire and weights\n",
    "\n",
    "## model architecture\n",
    "model_json = model.to_json()\n",
    "with open(\"model_v1.json\", \"w\") as json_file:\n",
    "    json_file.write(model_json)\n",
    "\n",
    "## model weights\n",
    "model.save_weights(\"model_v1.h5\")"
   ]
  },
  {
   "cell_type": "code",
   "execution_count": 66,
   "metadata": {},
   "outputs": [],
   "source": [
    "# ## load model architecture\n",
    "\n",
    "# from keras.models import model_from_json\n",
    "\n",
    "# json_file = open('model_v1.json', 'r')\n",
    "# loaded_model_json = json_file.read()\n",
    "# json_file.close()\n",
    "# loaded_model = model_from_json(loaded_model_json)\n",
    "\n",
    "# ## load model weights\n",
    "# loaded_model.load_weights(\"model_v1.h5\")"
   ]
  },
  {
   "cell_type": "code",
   "execution_count": 71,
   "metadata": {},
   "outputs": [],
   "source": [
    "## saving the tokenizer to use at testing time\n",
    "\n",
    "with open('tokenizer.pickle', 'wb') as handle:\n",
    "    pickle.dump(tokenizer, handle, protocol=pickle.HIGHEST_PROTOCOL)"
   ]
  },
  {
   "cell_type": "markdown",
   "metadata": {},
   "source": [
    "# Inference\n",
    "### Deployment as a Flask API\n",
    "\n",
    "- Code in deployment branch"
   ]
  },
  {
   "cell_type": "markdown",
   "metadata": {},
   "source": [
    "**Sample JSON request**\n",
    "\n",
    "{\"review_text\" : [\"mom starting to fear sons web series closest\", \"democrats fear that expectations for donald trump are a wee bit too low\"]}\n",
    "\n",
    "<br><br>\n",
    "\n",
    "**Sample output**\n",
    "\n",
    "{\n",
    "    \"output\": [\n",
    "        \"This Headline is Sarcastic.\",\n",
    "        \"This Headline is Not Sarcastic.\"\n",
    "    ]\n",
    "}\n",
    "\n",
    "<br><br>\n",
    "\n",
    "The deployment has been tested on my local computer. With the Flask API being hit via Postman.<br>\n",
    "The API is able to classify for single or multiple inputs."
   ]
  }
 ],
 "metadata": {
  "colab": {
   "collapsed_sections": [],
   "name": "Sarcasm detection assignment CROW.ipynb",
   "provenance": []
  },
  "kernelspec": {
   "display_name": "Python 3 (ipykernel)",
   "language": "python",
   "name": "python3"
  },
  "language_info": {
   "codemirror_mode": {
    "name": "ipython",
    "version": 3
   },
   "file_extension": ".py",
   "mimetype": "text/x-python",
   "name": "python",
   "nbconvert_exporter": "python",
   "pygments_lexer": "ipython3",
   "version": "3.9.7"
  }
 },
 "nbformat": 4,
 "nbformat_minor": 1
}
