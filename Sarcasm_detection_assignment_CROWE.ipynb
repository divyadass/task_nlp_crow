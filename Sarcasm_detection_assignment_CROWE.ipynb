{
 "cells": [
  {
   "cell_type": "markdown",
   "metadata": {
    "id": "A0JgDtRvabk_"
   },
   "source": [
    "# Sarcasm Detection"
   ]
  },
  {
   "cell_type": "code",
   "execution_count": null,
   "metadata": {
    "id": "UIS7O-J156SV"
   },
   "outputs": [],
   "source": [
    "# data manipulation libraries\n",
    "import pandas as pd\n",
    "import numpy as np\n",
    "\n",
    "# import different metrics to evaluate the classifiers\n",
    "from sklearn.metrics import accuracy_score, f1_score\n",
    "from sklearn.metrics import confusion_matrix \n",
    "from sklearn.metrics import roc_auc_score\n",
    "\n",
    "# pre-processing of text\n",
    "import string\n",
    "import re"
   ]
  },
  {
   "cell_type": "code",
   "execution_count": 2,
   "metadata": {},
   "outputs": [],
   "source": [
    "## loading  \n",
    "from models import naive_bayes, logistic_regression, svm\n",
    "\n",
    "from representations import embedding_feats ## returns vector representation of all the documents\n",
    "from representations import make_embedding_dict\n",
    "from representations import BoW_representation, tf_idf_representation, word2Vec"
   ]
  },
  {
   "cell_type": "code",
   "execution_count": 3,
   "metadata": {},
   "outputs": [],
   "source": []
  },
  {
   "cell_type": "code",
   "execution_count": 42,
   "metadata": {},
   "outputs": [],
   "source": [
    "from utils import clean, plot_confusion_matrix, get_confusion_matrix, print_metrics"
   ]
  },
  {
   "cell_type": "code",
   "execution_count": 5,
   "metadata": {
    "colab": {
     "base_uri": "https://localhost:8080/"
    },
    "id": "ckWL10-IePbR",
    "outputId": "2805ffdf-5cb2-430f-fb02-7c165b05f31b"
   },
   "outputs": [
    {
     "data": {
      "text/plain": [
       "(26709, 3)"
      ]
     },
     "execution_count": 5,
     "metadata": {},
     "output_type": "execute_result"
    }
   ],
   "source": [
    "data_s = pd.read_json('data/Sarcasm_Headlines_Dataset.json', lines= True)\n",
    "data_s.shape"
   ]
  },
  {
   "cell_type": "code",
   "execution_count": 6,
   "metadata": {
    "colab": {
     "base_uri": "https://localhost:8080/",
     "height": 204
    },
    "id": "5VCPJz5GeUXm",
    "outputId": "ed56f3fc-d9df-4c7c-8b5f-dbe428e13f5f"
   },
   "outputs": [
    {
     "data": {
      "text/html": [
       "<div>\n",
       "<style scoped>\n",
       "    .dataframe tbody tr th:only-of-type {\n",
       "        vertical-align: middle;\n",
       "    }\n",
       "\n",
       "    .dataframe tbody tr th {\n",
       "        vertical-align: top;\n",
       "    }\n",
       "\n",
       "    .dataframe thead th {\n",
       "        text-align: right;\n",
       "    }\n",
       "</style>\n",
       "<table border=\"1\" class=\"dataframe\">\n",
       "  <thead>\n",
       "    <tr style=\"text-align: right;\">\n",
       "      <th></th>\n",
       "      <th>article_link</th>\n",
       "      <th>headline</th>\n",
       "      <th>is_sarcastic</th>\n",
       "    </tr>\n",
       "  </thead>\n",
       "  <tbody>\n",
       "    <tr>\n",
       "      <th>0</th>\n",
       "      <td>https://www.huffingtonpost.com/entry/versace-b...</td>\n",
       "      <td>former versace store clerk sues over secret 'b...</td>\n",
       "      <td>0</td>\n",
       "    </tr>\n",
       "    <tr>\n",
       "      <th>1</th>\n",
       "      <td>https://www.huffingtonpost.com/entry/roseanne-...</td>\n",
       "      <td>the 'roseanne' revival catches up to our thorn...</td>\n",
       "      <td>0</td>\n",
       "    </tr>\n",
       "    <tr>\n",
       "      <th>2</th>\n",
       "      <td>https://local.theonion.com/mom-starting-to-fea...</td>\n",
       "      <td>mom starting to fear son's web series closest ...</td>\n",
       "      <td>1</td>\n",
       "    </tr>\n",
       "    <tr>\n",
       "      <th>3</th>\n",
       "      <td>https://politics.theonion.com/boehner-just-wan...</td>\n",
       "      <td>boehner just wants wife to listen, not come up...</td>\n",
       "      <td>1</td>\n",
       "    </tr>\n",
       "    <tr>\n",
       "      <th>4</th>\n",
       "      <td>https://www.huffingtonpost.com/entry/jk-rowlin...</td>\n",
       "      <td>j.k. rowling wishes snape happy birthday in th...</td>\n",
       "      <td>0</td>\n",
       "    </tr>\n",
       "  </tbody>\n",
       "</table>\n",
       "</div>"
      ],
      "text/plain": [
       "                                        article_link  \\\n",
       "0  https://www.huffingtonpost.com/entry/versace-b...   \n",
       "1  https://www.huffingtonpost.com/entry/roseanne-...   \n",
       "2  https://local.theonion.com/mom-starting-to-fea...   \n",
       "3  https://politics.theonion.com/boehner-just-wan...   \n",
       "4  https://www.huffingtonpost.com/entry/jk-rowlin...   \n",
       "\n",
       "                                            headline  is_sarcastic  \n",
       "0  former versace store clerk sues over secret 'b...             0  \n",
       "1  the 'roseanne' revival catches up to our thorn...             0  \n",
       "2  mom starting to fear son's web series closest ...             1  \n",
       "3  boehner just wants wife to listen, not come up...             1  \n",
       "4  j.k. rowling wishes snape happy birthday in th...             0  "
      ]
     },
     "execution_count": 6,
     "metadata": {},
     "output_type": "execute_result"
    }
   ],
   "source": [
    "data_s.head()"
   ]
  },
  {
   "cell_type": "markdown",
   "metadata": {
    "id": "ukCMTciupEFh"
   },
   "source": [
    "## Some basic EDA and data cleaning"
   ]
  },
  {
   "cell_type": "code",
   "execution_count": 7,
   "metadata": {
    "colab": {
     "base_uri": "https://localhost:8080/"
    },
    "id": "JTyt2zmtegfB",
    "outputId": "7a950623-4282-4e97-9ca4-7b36312f1832"
   },
   "outputs": [
    {
     "data": {
      "text/plain": [
       "1"
      ]
     },
     "execution_count": 7,
     "metadata": {},
     "output_type": "execute_result"
    }
   ],
   "source": [
    "## checking duplicate rows existence \n",
    "data_s.duplicated().sum()\n",
    "\n",
    "## there's one duplicate row"
   ]
  },
  {
   "cell_type": "code",
   "execution_count": 8,
   "metadata": {
    "colab": {
     "base_uri": "https://localhost:8080/"
    },
    "id": "9n70t9ZBeW9C",
    "outputId": "cd40bc58-5294-4c55-c5f5-88a70f586529"
   },
   "outputs": [
    {
     "name": "stdout",
     "output_type": "stream",
     "text": [
      "dataframe shape:  (26708, 3)\n"
     ]
    }
   ],
   "source": [
    "## Dropping duplicates rows\n",
    "data_s.drop_duplicates(inplace=True)\n",
    "print('dataframe shape: ', data_s.shape)"
   ]
  },
  {
   "cell_type": "code",
   "execution_count": 9,
   "metadata": {
    "colab": {
     "base_uri": "https://localhost:8080/"
    },
    "id": "IUEemoDYmIcY",
    "outputId": "72bd5688-0711-47d5-cc63-88fbf154e2cc"
   },
   "outputs": [
    {
     "data": {
      "text/plain": [
       "106"
      ]
     },
     "execution_count": 9,
     "metadata": {},
     "output_type": "execute_result"
    }
   ],
   "source": [
    "## checking duplicates in the headline column \n",
    "data_s[['headline']].duplicated().sum()"
   ]
  },
  {
   "cell_type": "code",
   "execution_count": 10,
   "metadata": {
    "colab": {
     "base_uri": "https://localhost:8080/"
    },
    "id": "n3FMeGlTmHsk",
    "outputId": "fffbf810-04e1-416d-ac78-4f8e85abdd2b"
   },
   "outputs": [
    {
     "name": "stdout",
     "output_type": "stream",
     "text": [
      "dataframe shape:  (26602, 3)\n"
     ]
    }
   ],
   "source": [
    "## Removing rows with duplicates headlines since keeping duplicates in headline gives model no useful infoemation\n",
    "data_s.drop_duplicates(subset='headline', keep='last', inplace=True)\n",
    "print('dataframe shape: ', data_s.shape)"
   ]
  },
  {
   "cell_type": "code",
   "execution_count": 11,
   "metadata": {
    "colab": {
     "base_uri": "https://localhost:8080/"
    },
    "id": "qCi3bckZna4S",
    "outputId": "50052cc9-6cd0-4b4a-aadc-e9ef671166b4"
   },
   "outputs": [
    {
     "name": "stdout",
     "output_type": "stream",
     "text": [
      "Dataset size after cleaning:  (26602, 3)\n",
      "Number of unique articles link: 26602\n",
      "Number of unique headline: 26602\n"
     ]
    }
   ],
   "source": [
    "print('Dataset size after cleaning: ',data_s.shape)\n",
    "print('Number of unique articles link: '+str(data_s['article_link'].unique().shape[0]))\n",
    "print('Number of unique headline: '+ str(data_s['headline'].unique().shape[0]))"
   ]
  },
  {
   "cell_type": "code",
   "execution_count": 12,
   "metadata": {
    "colab": {
     "base_uri": "https://localhost:8080/"
    },
    "id": "Gwx2J4eInrd3",
    "outputId": "a5379158-ec8e-4c59-aa2b-00f343fb66ce"
   },
   "outputs": [
    {
     "name": "stdout",
     "output_type": "stream",
     "text": [
      "Sarcastic Comments:  11651\n",
      "Non-Sarcastic Comments:  14951\n",
      "\n",
      "Sarcastic Comments percentage:  43.79745883768138\n",
      "Non-Sarcastic Comments percentage:  56.20254116231862\n"
     ]
    }
   ],
   "source": [
    "print('Sarcastic Comments: ', data_s['is_sarcastic'].value_counts()[1])\n",
    "print('Non-Sarcastic Comments: ', data_s['is_sarcastic'].value_counts()[0])\n",
    "print()\n",
    "print('Sarcastic Comments percentage: ', data_s['is_sarcastic'].value_counts()[1]/data_s.shape[0]*100)\n",
    "print('Non-Sarcastic Comments percentage: ', data_s['is_sarcastic'].value_counts()[0]/data_s.shape[0]*100)"
   ]
  },
  {
   "cell_type": "markdown",
   "metadata": {
    "id": "yVAIts8NolI7"
   },
   "source": [
    "**From the percentage in both categories, it can be seen that the given data is not imbalanced, and our model will therefore might not suffer from class imbalanced problem**"
   ]
  },
  {
   "cell_type": "markdown",
   "metadata": {
    "id": "lUL9iF7CpS76"
   },
   "source": [
    "**To identify wheather a News headline is sarcastic or not, the article link won't prove to be of much help. Therefore, we will drop the column**"
   ]
  },
  {
   "cell_type": "code",
   "execution_count": 13,
   "metadata": {
    "colab": {
     "base_uri": "https://localhost:8080/",
     "height": 111
    },
    "id": "xS6sDCSFpgyF",
    "outputId": "841d1872-488d-4f91-a1bb-25e6d6216874"
   },
   "outputs": [
    {
     "data": {
      "text/html": [
       "<div>\n",
       "<style scoped>\n",
       "    .dataframe tbody tr th:only-of-type {\n",
       "        vertical-align: middle;\n",
       "    }\n",
       "\n",
       "    .dataframe tbody tr th {\n",
       "        vertical-align: top;\n",
       "    }\n",
       "\n",
       "    .dataframe thead th {\n",
       "        text-align: right;\n",
       "    }\n",
       "</style>\n",
       "<table border=\"1\" class=\"dataframe\">\n",
       "  <thead>\n",
       "    <tr style=\"text-align: right;\">\n",
       "      <th></th>\n",
       "      <th>headline</th>\n",
       "      <th>is_sarcastic</th>\n",
       "    </tr>\n",
       "  </thead>\n",
       "  <tbody>\n",
       "    <tr>\n",
       "      <th>0</th>\n",
       "      <td>former versace store clerk sues over secret 'b...</td>\n",
       "      <td>0</td>\n",
       "    </tr>\n",
       "    <tr>\n",
       "      <th>1</th>\n",
       "      <td>the 'roseanne' revival catches up to our thorn...</td>\n",
       "      <td>0</td>\n",
       "    </tr>\n",
       "  </tbody>\n",
       "</table>\n",
       "</div>"
      ],
      "text/plain": [
       "                                            headline  is_sarcastic\n",
       "0  former versace store clerk sues over secret 'b...             0\n",
       "1  the 'roseanne' revival catches up to our thorn...             0"
      ]
     },
     "execution_count": 13,
     "metadata": {},
     "output_type": "execute_result"
    }
   ],
   "source": [
    "data_s.drop(['article_link'], axis= 1, inplace=True)\n",
    "data_s.head(2)"
   ]
  },
  {
   "cell_type": "markdown",
   "metadata": {
    "id": "PvIJp5Qd_CnR"
   },
   "source": [
    "### Text is already in lowercase"
   ]
  },
  {
   "cell_type": "code",
   "execution_count": 14,
   "metadata": {
    "id": "6ybMxyCE9dsA"
   },
   "outputs": [],
   "source": [
    "## split the data\n",
    "## Extract features from the training data using CountVectorizer, which is a bag of words feature implementation. We will use the pre-processing function above in conjunction with Count Vectorizer\n",
    "## Transform the test data into the same feature vector as the training data\n",
    "## Train the classifier\n",
    "## Evaluate the classifier"
   ]
  },
  {
   "cell_type": "code",
   "execution_count": 15,
   "metadata": {
    "colab": {
     "base_uri": "https://localhost:8080/"
    },
    "id": "ojvPmgkr9PCb",
    "outputId": "06809d65-c77d-46f7-f422-324314c72a12"
   },
   "outputs": [
    {
     "name": "stdout",
     "output_type": "stream",
     "text": [
      "(26602,) (26602,)\n",
      "(19951,) (19951,)\n",
      "(6651,) (6651,)\n"
     ]
    }
   ],
   "source": [
    "from sklearn.model_selection import train_test_split\n",
    "\n",
    "# Step 1: train-test split\n",
    "X = data_s.headline \n",
    "y = data_s.is_sarcastic  \n",
    "print(X.shape, y.shape)\n",
    "\n",
    "X_train, X_test, y_train, y_test = train_test_split(X, y, random_state=1) # random_state=1 for reproducibility # 75-25 default split\n",
    "print(X_train.shape, y_train.shape)\n",
    "print(X_test.shape, y_test.shape)"
   ]
  },
  {
   "cell_type": "markdown",
   "metadata": {},
   "source": [
    "## Trying BoW representation"
   ]
  },
  {
   "cell_type": "markdown",
   "metadata": {
    "id": "TmWMRFwSMnQA"
   },
   "source": [
    "### NB on BoW"
   ]
  },
  {
   "cell_type": "code",
   "execution_count": 20,
   "metadata": {
    "colab": {
     "base_uri": "https://localhost:8080/"
    },
    "id": "_5mC8HYRbRCY",
    "outputId": "27dc1c8a-0303-46ae-e0c4-d28eae57789e"
   },
   "outputs": [
    {
     "name": "stdout",
     "output_type": "stream",
     "text": [
      "train data: (19951, 10000) test data: (6651, 10000)\n"
     ]
    }
   ],
   "source": [
    "# Step 2-3: Preprocess and Vectorize train and test data\n",
    "X_train_dtm, X_test_dtm = BoW_representation(max_features=10000)"
   ]
  },
  {
   "cell_type": "code",
   "execution_count": 21,
   "metadata": {
    "colab": {
     "base_uri": "https://localhost:8080/",
     "height": 630
    },
    "id": "aC10S60tzzR9",
    "outputId": "b3909d64-f5e8-4a44-f91c-5d6b9a4ccb00"
   },
   "outputs": [
    {
     "name": "stdout",
     "output_type": "stream",
     "text": [
      "Wall time: 11 ms\n",
      "Prediction at training data\n",
      "Accuracy:  0.8824119091774848\n",
      "F1 Score:  0.864846180435534\n",
      "\n",
      "Prediction at testing data\n",
      "Accuracy:  0.7947677041046459\n",
      "F1 Score:  0.7606522882693318\n"
     ]
    },
    {
     "data": {
      "image/png": "[encoded data removed]",
      "text/plain": [
       "<Figure size 576x432 with 2 Axes>"
      ]
     },
     "metadata": {
      "needs_background": "light"
     },
     "output_type": "display_data"
    }
   ],
   "source": [
    "y_pred_class_train, y_pred_class = naive_bayes(X_train_dtm, y_train, X_test_dtm)\n",
    "\n",
    "# Print accuracy:\n",
    "print(\"Prediction at training data\")\n",
    "print_metrics(y_train, y_pred_class_train)\n",
    "print()\n",
    "print(\"Prediction at testing data\")\n",
    "print_metrics(y_test, y_pred_class)\n",
    "# print the confusion matrix\n",
    "get_confusion_matrix(y_test, y_pred_class)"
   ]
  },
  {
   "cell_type": "code",
   "execution_count": 22,
   "metadata": {
    "id": "m__KpQ68oZup"
   },
   "outputs": [],
   "source": [
    "## Description\n",
    "## CountVectorizer() converts a collection of text documents to a matrix of token counts and produces a sparse representation of the counts using scipy.sparse.csr_matrix\n",
    "## this produces the Bag of Words (BoW) representation of text features\n",
    "\n",
    "## Reason for MultinomialNB version Naive Bayes: In the sklearn website, it is mentioned that this version of the naive bayes is typically used/empirically better for text classification"
   ]
  },
  {
   "cell_type": "code",
   "execution_count": 23,
   "metadata": {
    "id": "FHysm40UqgQx"
   },
   "outputs": [],
   "source": [
    "## As we can see, the number of features are 23705. This is the vocabulary size the method has obtained after analysing after text data"
   ]
  },
  {
   "cell_type": "code",
   "execution_count": 24,
   "metadata": {
    "colab": {
     "base_uri": "https://localhost:8080/"
    },
    "id": "LHXPHewSY5_0",
    "outputId": "533da7e7-fc59-4843-f291-b8e75c3fbeb0"
   },
   "outputs": [
    {
     "name": "stdout",
     "output_type": "stream",
     "text": [
      "victoria's secret introduces 3-inch patch of satin to place anywhere on body\n",
      "victorias secret introduces inch patch satin place body\n",
      "7\n"
     ]
    }
   ],
   "source": [
    "print(X_train[12897])\n",
    "print(clean(X_train[12897]))\n",
    "print(X_train_dtm.toarray()[0].sum())"
   ]
  },
  {
   "cell_type": "markdown",
   "metadata": {
    "id": "uyXpbHGlRHeC"
   },
   "source": [
    "### Logictic regression on BoW"
   ]
  },
  {
   "cell_type": "code",
   "execution_count": 25,
   "metadata": {
    "colab": {
     "base_uri": "https://localhost:8080/",
     "height": 579
    },
    "id": "Oi9mlPIle2WG",
    "outputId": "b8b19614-2391-49b3-f047-6a87813392d7"
   },
   "outputs": [
    {
     "name": "stdout",
     "output_type": "stream",
     "text": [
      "Prediction at training data\n",
      "Accuracy:  0.9214575710490702\n",
      "F1 Score:  0.9109000966623074\n",
      "\n",
      "Prediction at testing data\n",
      "Accuracy:  0.7899563975342054\n",
      "F1 Score:  0.757254561251086\n"
     ]
    },
    {
     "data": {
      "image/png": "[encoded data removed]",
      "text/plain": [
       "<Figure size 576x432 with 2 Axes>"
      ]
     },
     "metadata": {
      "needs_background": "light"
     },
     "output_type": "display_data"
    }
   ],
   "source": [
    "y_pred_class_train, y_pred_class = logistic_regression(X_train_dtm, y_train, X_test_dtm)\n",
    "\n",
    "# calculate evaluation measures:\n",
    "print(\"Prediction at training data\")\n",
    "print_metrics(y_train, y_pred_class_train)\n",
    "print()\n",
    "print(\"Prediction at testing data\")\n",
    "print_metrics(y_test, y_pred_class)\n",
    "\n",
    "get_confusion_matrix(y_test, y_pred_class)"
   ]
  },
  {
   "cell_type": "markdown",
   "metadata": {
    "id": "UdImESIWj_fq"
   },
   "source": [
    "### SVM on BoW"
   ]
  },
  {
   "cell_type": "code",
   "execution_count": 26,
   "metadata": {
    "colab": {
     "base_uri": "https://localhost:8080/",
     "height": 596
    },
    "id": "bHO_0UhRkNfs",
    "outputId": "1625c146-f3d2-47c8-addc-855eabe93bea"
   },
   "outputs": [
    {
     "name": "stdout",
     "output_type": "stream",
     "text": [
      "train data: (19951, 23705) test data: (6651, 23705)\n",
      "Prediction at training data\n",
      "Accuracy:  0.9951882111172372\n",
      "F1 Score:  0.9945174186179325\n",
      "\n",
      "Prediction at testing data\n",
      "Accuracy:  0.7752217711622312\n",
      "F1 Score:  0.7357256496376172\n"
     ]
    },
    {
     "data": {
      "image/png": "[encoded data removed]",
      "text/plain": [
       "<Figure size 576x432 with 2 Axes>"
      ]
     },
     "metadata": {
      "needs_background": "light"
     },
     "output_type": "display_data"
    }
   ],
   "source": [
    "X_train_dtm, X_test_dtm = BoW_representation()\n",
    "y_pred_class_train, y_pred_class = svm(X_train_dtm, y_train, X_test_dtm)\n",
    "\n",
    "# calculate evaluation measures:\n",
    "print(\"Prediction at training data\")\n",
    "print_metrics(y_train, y_pred_class_train)\n",
    "print()\n",
    "print(\"Prediction at testing data\")\n",
    "print_metrics(y_test, y_pred_class)\n",
    "\n",
    "get_confusion_matrix(y_test, y_pred_class)"
   ]
  },
  {
   "cell_type": "markdown",
   "metadata": {
    "id": "JWMKQPmMocFl"
   },
   "source": [
    "## Trying TF-IDF representation of text with the same settings"
   ]
  },
  {
   "cell_type": "markdown",
   "metadata": {
    "id": "PJUJvQRdk9dQ"
   },
   "source": [
    "### NB on TF-IDF"
   ]
  },
  {
   "cell_type": "code",
   "execution_count": 27,
   "metadata": {
    "colab": {
     "base_uri": "https://localhost:8080/"
    },
    "id": "fs_H7ALnmWEh",
    "outputId": "2cfbe74b-fd60-4566-bd5b-80368122f026"
   },
   "outputs": [
    {
     "name": "stdout",
     "output_type": "stream",
     "text": [
      "train data: (19951, 23705) test data: (6651, 23705)\n"
     ]
    }
   ],
   "source": [
    "## TF-IDF text representation for train_X and test_X\n",
    "X_train_tfidf, X_test_tfidf = tf_idf_representation()"
   ]
  },
  {
   "cell_type": "code",
   "execution_count": 28,
   "metadata": {
    "colab": {
     "base_uri": "https://localhost:8080/",
     "height": 613
    },
    "id": "H_JqTzNj_jK0",
    "outputId": "0f8ef268-713a-4937-8104-509ce6b8be65"
   },
   "outputs": [
    {
     "name": "stdout",
     "output_type": "stream",
     "text": [
      "Wall time: 14 ms\n",
      "Prediction at training data\n",
      "Accuracy:  0.9085258884266453\n",
      "F1 Score:  0.8880574127461204\n",
      "\n",
      "Prediction at testing data\n",
      "Accuracy:  0.793113817471057\n",
      "F1 Score:  0.7311449785072294\n"
     ]
    },
    {
     "data": {
      "image/png": "[encoded data removed]",
      "text/plain": [
       "<Figure size 576x432 with 2 Axes>"
      ]
     },
     "metadata": {
      "needs_background": "light"
     },
     "output_type": "display_data"
    }
   ],
   "source": [
    "y_pred_class_train, y_pred_class = naive_bayes(X_train_tfidf, y_train, X_test_tfidf)\n",
    "\n",
    "# Print accuracy:\n",
    "print(\"Prediction at training data\")\n",
    "print_metrics(y_train, y_pred_class_train)\n",
    "print()\n",
    "print(\"Prediction at testing data\")\n",
    "print_metrics(y_test, y_pred_class)\n",
    "# print the confusion matrix\n",
    "get_confusion_matrix(y_test, y_pred_class)"
   ]
  },
  {
   "cell_type": "markdown",
   "metadata": {
    "id": "2I1Mop_mmAHz"
   },
   "source": [
    "### Logictic regression on TF-IDF"
   ]
  },
  {
   "cell_type": "code",
   "execution_count": 29,
   "metadata": {
    "colab": {
     "base_uri": "https://localhost:8080/",
     "height": 579
    },
    "id": "d2NHtfffmF7m",
    "outputId": "826ac7cb-500e-4825-a70a-d4c506994513"
   },
   "outputs": [
    {
     "name": "stdout",
     "output_type": "stream",
     "text": [
      "Prediction at training data\n",
      "Accuracy:  0.9079745376171621\n",
      "F1 Score:  0.8963180483397335\n",
      "\n",
      "Prediction at testing data\n",
      "Accuracy:  0.7965719440685611\n",
      "F1 Score:  0.7670053383847081\n"
     ]
    },
    {
     "data": {
      "image/png": "[encoded data removed]",
      "text/plain": [
       "<Figure size 576x432 with 2 Axes>"
      ]
     },
     "metadata": {
      "needs_background": "light"
     },
     "output_type": "display_data"
    }
   ],
   "source": [
    "y_pred_class_train, y_pred_class = logistic_regression(X_train_tfidf, y_train,  X_test_tfidf)\n",
    "\n",
    "# calculate evaluation measures:\n",
    "print(\"Prediction at training data\")\n",
    "print_metrics(y_train, y_pred_class_train)\n",
    "print()\n",
    "print(\"Prediction at testing data\")\n",
    "print_metrics(y_test, y_pred_class)\n",
    "\n",
    "get_confusion_matrix(y_test, y_pred_class)"
   ]
  },
  {
   "cell_type": "markdown",
   "metadata": {
    "id": "R_IaJZD3m3_i"
   },
   "source": [
    "### SVM on TF-IDF"
   ]
  },
  {
   "cell_type": "code",
   "execution_count": 30,
   "metadata": {
    "colab": {
     "base_uri": "https://localhost:8080/",
     "height": 596
    },
    "id": "_GJEB8MjmwPm",
    "outputId": "392fa5bd-0aa3-48cc-f319-012ab41e51c1"
   },
   "outputs": [
    {
     "name": "stdout",
     "output_type": "stream",
     "text": [
      "train data: (19951, 5000) test data: (6651, 5000)\n",
      "Prediction at training data\n",
      "Accuracy:  0.8895293468999048\n",
      "F1 Score:  0.875339366515837\n",
      "\n",
      "Prediction at testing data\n",
      "Accuracy:  0.7758231844835363\n",
      "F1 Score:  0.742086144265698\n"
     ]
    },
    {
     "data": {
      "image/png": "[encoded data removed]",
      "text/plain": [
       "<Figure size 576x432 with 2 Axes>"
      ]
     },
     "metadata": {
      "needs_background": "light"
     },
     "output_type": "display_data"
    }
   ],
   "source": [
    "X_train_tfidf, X_test_tfidf = tf_idf_representation(max_features=5000)\n",
    "y_pred_class_train, y_pred_class = svm(X_train_tfidf, y_train, X_test_tfidf)\n",
    "\n",
    "# calculate evaluation measures:\n",
    "print(\"Prediction at training data\")\n",
    "print_metrics(y_train, y_pred_class_train)\n",
    "print()\n",
    "print(\"Prediction at testing data\")\n",
    "print_metrics(y_test, y_pred_class)\n",
    "\n",
    "get_confusion_matrix(y_test, y_pred_class)"
   ]
  },
  {
   "cell_type": "markdown",
   "metadata": {
    "id": "NX4seNrrxtGJ"
   },
   "source": [
    "### word2vec"
   ]
  },
  {
   "cell_type": "code",
   "execution_count": 31,
   "metadata": {
    "colab": {
     "base_uri": "https://localhost:8080/"
    },
    "id": "dPOs5b70x38r",
    "outputId": "4646fba8-59b1-44eb-ffea-10624f27254f"
   },
   "outputs": [
    {
     "data": {
      "text/plain": [
       "12897    victoria's secret introduces 3-inch patch of s...\n",
       "23365                             the power of perspective\n",
       "17425    democrats fear that expectations for donald tr...\n",
       "15768     how we became the heaviest drinkers in a century\n",
       "7287     what the trump team should consider before axi...\n",
       "                               ...                        \n",
       "11018                 rain told to go away in 1986 returns\n",
       "17384    woman already off to bad start as mother after...\n",
       "5225     anne hathaway, james franco spend every moment...\n",
       "12245    area woman insists on helping coworker through...\n",
       "236      discover how climate change is rapidly transfo...\n",
       "Name: headline, Length: 19951, dtype: object"
      ]
     },
     "execution_count": 31,
     "metadata": {},
     "output_type": "execute_result"
    }
   ],
   "source": [
    "X_train"
   ]
  },
  {
   "cell_type": "code",
   "execution_count": 39,
   "metadata": {
    "id": "h5Re-hEcLvlC"
   },
   "outputs": [],
   "source": [
    "X_train_we, X_test_we = word2Vec()"
   ]
  },
  {
   "cell_type": "code",
   "execution_count": 40,
   "metadata": {
    "colab": {
     "base_uri": "https://localhost:8080/",
     "height": 579
    },
    "id": "nomE7-mEILM6",
    "outputId": "ffe98319-168f-408b-f098-8fb29af58072"
   },
   "outputs": [
    {
     "name": "stdout",
     "output_type": "stream",
     "text": [
      "Prediction at training data\n",
      "Accuracy:  0.7073830885669892\n",
      "F1 Score:  0.6794069192751235\n",
      "\n",
      "Prediction at testing data\n",
      "Accuracy:  0.7001954593294242\n",
      "F1 Score:  0.667888074616922\n"
     ]
    },
    {
     "data": {
      "image/png": "[encoded data removed]",
      "text/plain": [
       "<Figure size 576x432 with 2 Axes>"
      ]
     },
     "metadata": {
      "needs_background": "light"
     },
     "output_type": "display_data"
    }
   ],
   "source": [
    "# Preprocess and Vectorize train and test data\n",
    "\n",
    "y_pred_class_train, y_pred_class = logistic_regression(X_train_we, y_train, X_test_we)\n",
    "\n",
    "# Print accuracy:\n",
    "print(\"Prediction at training data\")\n",
    "print_metrics(y_train, y_pred_class_train)\n",
    "print()\n",
    "print(\"Prediction at testing data\")\n",
    "print_metrics(y_test, y_pred_class)\n",
    "# print the confusion matrix\n",
    "get_confusion_matrix(y_test, y_pred_class)"
   ]
  },
  {
   "cell_type": "code",
   "execution_count": 41,
   "metadata": {
    "colab": {
     "base_uri": "https://localhost:8080/",
     "height": 579
    },
    "id": "A1eYwpmyEk-q",
    "outputId": "234c4a2b-3894-4004-fdad-7e61dffdecb3"
   },
   "outputs": [
    {
     "name": "stdout",
     "output_type": "stream",
     "text": [
      "Prediction at training data\n",
      "Accuracy:  0.7078843165756102\n",
      "F1 Score:  0.6798505822896067\n",
      "\n",
      "Prediction at testing data\n",
      "Accuracy:  0.7007968726507292\n",
      "F1 Score:  0.6683333333333333\n"
     ]
    },
    {
     "data": {
      "image/png": "[encoded data removed]",
      "text/plain": [
       "<Figure size 576x432 with 2 Axes>"
      ]
     },
     "metadata": {
      "needs_background": "light"
     },
     "output_type": "display_data"
    }
   ],
   "source": [
    "y_pred_class_train, y_pred_class = svm(X_train_we, y_train, X_test_we)\n",
    "\n",
    "# Print accuracy:\n",
    "print(\"Prediction at training data\")\n",
    "print_metrics(y_train, y_pred_class_train)\n",
    "print()\n",
    "print(\"Prediction at testing data\")\n",
    "print_metrics(y_test, y_pred_class)\n",
    "# print the confusion matrix\n",
    "get_confusion_matrix(y_test, y_pred_class)"
   ]
  },
  {
   "cell_type": "markdown",
   "metadata": {
    "id": "3DggN25VPSC0"
   },
   "source": [
    "### trying LSTM"
   ]
  },
  {
   "cell_type": "code",
   "execution_count": 16,
   "metadata": {
    "id": "_3DWc21APUHn"
   },
   "outputs": [],
   "source": [
    "import numpy as np\n",
    "from tensorflow.keras.preprocessing.text import Tokenizer \n",
    "from tensorflow.keras.preprocessing.sequence import pad_sequences\n",
    "from tensorflow.keras.layers import Dense, Input, LSTM, Embedding, Dropout, Flatten, Bidirectional\n",
    "from tensorflow.keras.models import Model, Sequential"
   ]
  },
  {
   "cell_type": "code",
   "execution_count": 17,
   "metadata": {
    "id": "7bHDIyzGPUyb"
   },
   "outputs": [],
   "source": [
    "max_features = 10000  ## no of unique words in the vocabulary\n",
    "maxlen = 15 ## no of words to use from each headline\n",
    "embedding_size = 100 ## length of word embedding"
   ]
  },
  {
   "cell_type": "code",
   "execution_count": 18,
   "metadata": {
    "id": "LkGQ184kPZt1"
   },
   "outputs": [],
   "source": [
    "tokenizer = Tokenizer(\n",
    "    num_words=max_features+1,\n",
    "     filters='!\"#$%&()*+,-./:;<=>?@[\\\\]^_`{|}~\\t\\n',\n",
    "     lower=True,\n",
    "     split=\" \",\n",
    "     oov_token = True)"
   ]
  },
  {
   "cell_type": "code",
   "execution_count": 19,
   "metadata": {
    "id": "48TzTp_OPd_0"
   },
   "outputs": [],
   "source": [
    "tokenizer.fit_on_texts(data_s['headline'])"
   ]
  },
  {
   "cell_type": "code",
   "execution_count": 20,
   "metadata": {
    "colab": {
     "base_uri": "https://localhost:8080/",
     "height": 111
    },
    "id": "Xe7xX3vQPlo1",
    "outputId": "cc3acb73-4b4f-4fd9-bfd4-7f33cc7b8283"
   },
   "outputs": [
    {
     "data": {
      "text/html": [
       "<div>\n",
       "<style scoped>\n",
       "    .dataframe tbody tr th:only-of-type {\n",
       "        vertical-align: middle;\n",
       "    }\n",
       "\n",
       "    .dataframe tbody tr th {\n",
       "        vertical-align: top;\n",
       "    }\n",
       "\n",
       "    .dataframe thead th {\n",
       "        text-align: right;\n",
       "    }\n",
       "</style>\n",
       "<table border=\"1\" class=\"dataframe\">\n",
       "  <thead>\n",
       "    <tr style=\"text-align: right;\">\n",
       "      <th></th>\n",
       "      <th>headline</th>\n",
       "      <th>is_sarcastic</th>\n",
       "    </tr>\n",
       "  </thead>\n",
       "  <tbody>\n",
       "    <tr>\n",
       "      <th>0</th>\n",
       "      <td>former versace store clerk sues over secret 'b...</td>\n",
       "      <td>0</td>\n",
       "    </tr>\n",
       "    <tr>\n",
       "      <th>1</th>\n",
       "      <td>the 'roseanne' revival catches up to our thorn...</td>\n",
       "      <td>0</td>\n",
       "    </tr>\n",
       "  </tbody>\n",
       "</table>\n",
       "</div>"
      ],
      "text/plain": [
       "                                            headline  is_sarcastic\n",
       "0  former versace store clerk sues over secret 'b...             0\n",
       "1  the 'roseanne' revival catches up to our thorn...             0"
      ]
     },
     "execution_count": 20,
     "metadata": {},
     "output_type": "execute_result"
    }
   ],
   "source": [
    "data_s.head(2)"
   ]
  },
  {
   "cell_type": "code",
   "execution_count": 21,
   "metadata": {
    "id": "XUUfaKFxPe5N"
   },
   "outputs": [],
   "source": [
    "data_s['tokenized_headline'] = tokenizer.texts_to_sequences(data_s['headline'])"
   ]
  },
  {
   "cell_type": "code",
   "execution_count": 22,
   "metadata": {
    "colab": {
     "base_uri": "https://localhost:8080/"
    },
    "id": "8XSYYpzXPn-V",
    "outputId": "eae0db9a-cc0d-4628-c4b3-827f963e42b6"
   },
   "outputs": [
    {
     "name": "stdout",
     "output_type": "stream",
     "text": [
      "Number of Samples: 26602\n",
      "[   0    0    0  308    1  677 3611 2293   48  382 2566    1    6 2567\n",
      " 8413]\n",
      "Number of Labels:  26602\n",
      "0\n"
     ]
    }
   ],
   "source": [
    "X = data_s['tokenized_headline']\n",
    "X = pad_sequences(X, maxlen = maxlen, value=0.0)\n",
    "y = np.asarray(data_s['is_sarcastic'])\n",
    "\n",
    "print(\"Number of Samples:\", len(X))\n",
    "print(X[0])\n",
    "print(\"Number of Labels: \", len(y))\n",
    "print(y[0])"
   ]
  },
  {
   "cell_type": "code",
   "execution_count": 23,
   "metadata": {
    "id": "v5lD_GkSScYO"
   },
   "outputs": [],
   "source": [
    "from itertools import islice\n",
    "\n",
    "def take(n, iterable):\n",
    "    \"Return first n items of the iterable as a dict\"\n",
    "    return dict(islice(iterable, n))"
   ]
  },
  {
   "cell_type": "code",
   "execution_count": 24,
   "metadata": {
    "colab": {
     "base_uri": "https://localhost:8080/"
    },
    "id": "I9L-dsW1SHEo",
    "outputId": "7d5bea57-7ffd-4970-99c4-a837f46b9c25"
   },
   "outputs": [
    {
     "name": "stdout",
     "output_type": "stream",
     "text": [
      "Number of words originally present: 29658\n",
      "Numer of words in our vocabulary:  10000   .Since, we had set num_words argumnet while defining tokenizer object\n"
     ]
    }
   ],
   "source": [
    "print('Number of words originally present:', len(tokenizer.word_index) + 1)\n",
    "\n",
    "print('Numer of words in our vocabulary: ', max_features, '  .Since, we had set num_words argumnet while defining tokenizer object')\n",
    "num_words = max_features"
   ]
  },
  {
   "cell_type": "code",
   "execution_count": 25,
   "metadata": {
    "id": "19l-ouCRTBX5"
   },
   "outputs": [],
   "source": [
    "vocab = take(num_words, tokenizer.word_index.items())"
   ]
  },
  {
   "cell_type": "code",
   "execution_count": 60,
   "metadata": {},
   "outputs": [],
   "source": [
    "words = set(tokenizer.word_index.keys())"
   ]
  },
  {
   "cell_type": "code",
   "execution_count": 64,
   "metadata": {},
   "outputs": [
    {
     "data": {
      "text/plain": [
       "29657"
      ]
     },
     "execution_count": 64,
     "metadata": {},
     "output_type": "execute_result"
    }
   ],
   "source": [
    "len(words)"
   ]
  },
  {
   "cell_type": "code",
   "execution_count": 63,
   "metadata": {},
   "outputs": [],
   "source": [
    "embeddings_words = embeddings.keys()"
   ]
  },
  {
   "cell_type": "code",
   "execution_count": 65,
   "metadata": {},
   "outputs": [],
   "source": [
    "intersect_word = words.intersection(embeddings_words)"
   ]
  },
  {
   "cell_type": "code",
   "execution_count": 67,
   "metadata": {},
   "outputs": [
    {
     "data": {
      "text/plain": [
       "0.8009913342549819"
      ]
     },
     "execution_count": 67,
     "metadata": {},
     "output_type": "execute_result"
    }
   ],
   "source": [
    "len(intersect_word)/ 29657"
   ]
  },
  {
   "cell_type": "code",
   "execution_count": null,
   "metadata": {},
   "outputs": [],
   "source": []
  },
  {
   "cell_type": "code",
   "execution_count": null,
   "metadata": {},
   "outputs": [],
   "source": []
  },
  {
   "cell_type": "code",
   "execution_count": 49,
   "metadata": {},
   "outputs": [],
   "source": [
    "words=tokenizer.word_index.items()"
   ]
  },
  {
   "cell_type": "code",
   "execution_count": 26,
   "metadata": {
    "colab": {
     "base_uri": "https://localhost:8080/"
    },
    "id": "VEKVd-bKSRNq",
    "outputId": "fff4aa63-69ee-442c-b381-150b7ba974db"
   },
   "outputs": [
    {
     "data": {
      "text/plain": [
       "400000"
      ]
     },
     "execution_count": 26,
     "metadata": {},
     "output_type": "execute_result"
    }
   ],
   "source": [
    "embedding_matrix = np.zeros((num_words+1, 100))\n",
    "\n",
    "embeddings = make_embedding_dict()\n",
    "for word, i in vocab.items():\n",
    "    embedding_vector = embeddings.get(word)\n",
    "    if embedding_vector is not None:\n",
    "        embedding_matrix[i] = embedding_vector\n",
    "\n",
    "len(embeddings.values())"
   ]
  },
  {
   "cell_type": "code",
   "execution_count": 27,
   "metadata": {
    "id": "Kg3jMTqTRb68"
   },
   "outputs": [],
   "source": [
    "### Embedding layer for hint \n",
    "## model.add(Embedding(num_words, embedding_size, weights = [embedding_matrix]))\n",
    "### Bidirectional LSTM layer for hint \n",
    "## model.add(Bidirectional(LSTM(128, return_sequences = True)))\n",
    "\n",
    "# Define the Keras model\n",
    "model = Sequential()\n",
    "model.add(Embedding(num_words + 1, embedding_size, weights=[embedding_matrix], input_length=maxlen, trainable=False))\n",
    "model.add(Dropout(0.50))\n",
    "\n",
    "model.add(Bidirectional(LSTM(128, return_sequences=True)))\n",
    "model.add(Dropout(0.50))\n",
    "\n",
    "model.add(Flatten())\n",
    "model.add(Dropout(0.50))\n",
    "\n",
    "model.add(Dense(1, activation='sigmoid'))"
   ]
  },
  {
   "cell_type": "code",
   "execution_count": 28,
   "metadata": {
    "colab": {
     "base_uri": "https://localhost:8080/"
    },
    "id": "dXkLFR1rRohw",
    "outputId": "f60e6b7f-08c4-4002-8e23-7ec63b3f51c5"
   },
   "outputs": [
    {
     "name": "stdout",
     "output_type": "stream",
     "text": [
      "Model: \"sequential\"\n",
      "_________________________________________________________________\n",
      "Layer (type)                 Output Shape              Param #   \n",
      "=================================================================\n",
      "embedding (Embedding)        (None, 15, 100)           1000100   \n",
      "_________________________________________________________________\n",
      "dropout (Dropout)            (None, 15, 100)           0         \n",
      "_________________________________________________________________\n",
      "bidirectional (Bidirectional (None, 15, 256)           234496    \n",
      "_________________________________________________________________\n",
      "dropout_1 (Dropout)          (None, 15, 256)           0         \n",
      "_________________________________________________________________\n",
      "flatten (Flatten)            (None, 3840)              0         \n",
      "_________________________________________________________________\n",
      "dropout_2 (Dropout)          (None, 3840)              0         \n",
      "_________________________________________________________________\n",
      "dense (Dense)                (None, 1)                 3841      \n",
      "=================================================================\n",
      "Total params: 1,238,437\n",
      "Trainable params: 238,337\n",
      "Non-trainable params: 1,000,100\n",
      "_________________________________________________________________\n"
     ]
    }
   ],
   "source": [
    "model.summary()"
   ]
  },
  {
   "cell_type": "code",
   "execution_count": 29,
   "metadata": {
    "id": "q2LUCpKHTg4u"
   },
   "outputs": [],
   "source": [
    "##Model Configuration\n",
    "batch_size = 100\n",
    "number_of_epochs = 10\n",
    "\n",
    "loss_function = 'binary_crossentropy'\n",
    "optimizer = 'adam'\n",
    "additional_metrics = ['accuracy']\n",
    "verbosity_mode = True"
   ]
  },
  {
   "cell_type": "code",
   "execution_count": 30,
   "metadata": {
    "id": "3-iYPDE7WN0R"
   },
   "outputs": [],
   "source": [
    "X_train, X_test, y_train, y_test = train_test_split(X, y, random_state=1)"
   ]
  },
  {
   "cell_type": "code",
   "execution_count": 31,
   "metadata": {
    "colab": {
     "base_uri": "https://localhost:8080/"
    },
    "id": "haWRf8iRUH_J",
    "outputId": "cf5b1664-8ca8-4b75-e120-bc3af301c062"
   },
   "outputs": [
    {
     "data": {
      "text/plain": [
       "((19951, 15), (6651, 15), (19951,), (6651,))"
      ]
     },
     "execution_count": 31,
     "metadata": {},
     "output_type": "execute_result"
    }
   ],
   "source": [
    "X_train.shape, X_test.shape, y_train.shape, y_test.shape"
   ]
  },
  {
   "cell_type": "code",
   "execution_count": 32,
   "metadata": {
    "colab": {
     "base_uri": "https://localhost:8080/"
    },
    "id": "o_mKZKTWVDJP",
    "outputId": "95e471e3-6fb1-4081-d9f2-083b350ec444"
   },
   "outputs": [
    {
     "data": {
      "text/plain": [
       "array([[   0,    0, 6831, ..., 4579,    8,  299],\n",
       "       [   0,    0,    0, ...,  355,    3, 2359],\n",
       "       [   0,    0,  376, ..., 2418,  151,  768],\n",
       "       ...,\n",
       "       [   0,    0, 2812, ...,   43, 6602,    1],\n",
       "       [   0,    0,    0, ...,  174,  607,  503],\n",
       "       [   0,    0,    0, ...,   10,  909,    1]])"
      ]
     },
     "execution_count": 32,
     "metadata": {},
     "output_type": "execute_result"
    }
   ],
   "source": [
    "X_train"
   ]
  },
  {
   "cell_type": "code",
   "execution_count": 33,
   "metadata": {
    "colab": {
     "base_uri": "https://localhost:8080/"
    },
    "id": "z0AmuZTXTo1_",
    "outputId": "d83e4901-d357-4768-9848-252b07688b10"
   },
   "outputs": [
    {
     "name": "stdout",
     "output_type": "stream",
     "text": [
      "Epoch 1/10\n",
      "200/200 [==============================] - 31s 100ms/step - loss: 0.6108 - accuracy: 0.6618 - val_loss: 0.5339 - val_accuracy: 0.7396\n",
      "Epoch 2/10\n",
      "200/200 [==============================] - 18s 92ms/step - loss: 0.5340 - accuracy: 0.7336 - val_loss: 0.4514 - val_accuracy: 0.7927\n",
      "Epoch 3/10\n",
      "200/200 [==============================] - 19s 93ms/step - loss: 0.4771 - accuracy: 0.7721 - val_loss: 0.3881 - val_accuracy: 0.8295\n",
      "Epoch 4/10\n",
      "200/200 [==============================] - 21s 103ms/step - loss: 0.4422 - accuracy: 0.7903 - val_loss: 0.4087 - val_accuracy: 0.8078\n",
      "Epoch 5/10\n",
      "200/200 [==============================] - 18s 92ms/step - loss: 0.4261 - accuracy: 0.7993 - val_loss: 0.3644 - val_accuracy: 0.8381\n",
      "Epoch 6/10\n",
      "200/200 [==============================] - 19s 94ms/step - loss: 0.4019 - accuracy: 0.8170 - val_loss: 0.3543 - val_accuracy: 0.8402\n",
      "Epoch 7/10\n",
      "200/200 [==============================] - 18s 91ms/step - loss: 0.3925 - accuracy: 0.8222 - val_loss: 0.3475 - val_accuracy: 0.8471\n",
      "Epoch 8/10\n",
      "200/200 [==============================] - 18s 91ms/step - loss: 0.3852 - accuracy: 0.8268 - val_loss: 0.3380 - val_accuracy: 0.8521\n",
      "Epoch 9/10\n",
      "200/200 [==============================] - 18s 91ms/step - loss: 0.3798 - accuracy: 0.8267 - val_loss: 0.3370 - val_accuracy: 0.8543\n",
      "Epoch 10/10\n",
      "200/200 [==============================] - 18s 91ms/step - loss: 0.3652 - accuracy: 0.8360 - val_loss: 0.3444 - val_accuracy: 0.8501\n"
     ]
    }
   ],
   "source": [
    "# Compile the model\n",
    "model.compile(optimizer=optimizer, loss=loss_function, metrics=additional_metrics)\n",
    "\n",
    "# Train the model\n",
    "history = model.fit(X_train, y_train, epochs=number_of_epochs,\n",
    "                    batch_size=batch_size, \n",
    "                    verbose=verbosity_mode, \n",
    "                    validation_data=(X_test,y_test))"
   ]
  },
  {
   "cell_type": "code",
   "execution_count": 34,
   "metadata": {
    "id": "jdtdi5C2UDfE"
   },
   "outputs": [],
   "source": [
    "y_pred_prob = model.predict(X_test)\n",
    "y_pred_prob_train = model.predict(X_train)"
   ]
  },
  {
   "cell_type": "code",
   "execution_count": 35,
   "metadata": {
    "id": "1Ad3m2fYrC4p"
   },
   "outputs": [],
   "source": [
    "def get_class(y_pred_prob):\n",
    "  prob_list = []\n",
    "  for i in y_pred_prob:\n",
    "    prob_list.append(i[0])\n",
    "  y_pred_class = [1 if p > 0.5 else 0 for p in prob_list]\n",
    "  return y_pred_class"
   ]
  },
  {
   "cell_type": "code",
   "execution_count": 36,
   "metadata": {
    "id": "ILMb2l2draO1"
   },
   "outputs": [],
   "source": [
    "y_pred_class = get_class(y_pred_prob)\n",
    "y_pred_class_train = get_class(y_pred_prob_train)"
   ]
  },
  {
   "cell_type": "code",
   "execution_count": 44,
   "metadata": {},
   "outputs": [],
   "source": [
    "def print_metrics(y_test, y_pred_class):\n",
    "  print(\"Accuracy: \", accuracy_score(y_test, y_pred_class))\n",
    "  print(\"F1 Score: \", f1_score(y_test, y_pred_class))\n",
    "  # print(\"AUC: \", roc_auc_score(y_test, y_pred_prob))"
   ]
  },
  {
   "cell_type": "code",
   "execution_count": 45,
   "metadata": {
    "colab": {
     "base_uri": "https://localhost:8080/",
     "height": 562
    },
    "id": "NAsWncQqe7EP",
    "outputId": "47b72aee-38e3-4609-e7aa-05cc0dce9620"
   },
   "outputs": [
    {
     "name": "stdout",
     "output_type": "stream",
     "text": [
      "Accuracy:  0.8874743120645582\n",
      "F1 Score:  0.8673716547527618\n",
      "\n",
      "Prediction at testing data\n",
      "Accuracy:  0.8500977296647121\n",
      "F1 Score:  0.8213581795377173\n"
     ]
    },
    {
     "ename": "NameError",
     "evalue": "name 'confusion_matrix' is not defined",
     "output_type": "error",
     "traceback": [
      "\u001b[1;31m---------------------------------------------------------------------------\u001b[0m",
      "\u001b[1;31mNameError\u001b[0m                                 Traceback (most recent call last)",
      "\u001b[1;32m~\\AppData\\Local\\Temp/ipykernel_18608/3644514896.py\u001b[0m in \u001b[0;36m<module>\u001b[1;34m\u001b[0m\n\u001b[0;32m      6\u001b[0m \u001b[0mprint_metrics\u001b[0m\u001b[1;33m(\u001b[0m\u001b[0my_test\u001b[0m\u001b[1;33m,\u001b[0m \u001b[0my_pred_class\u001b[0m\u001b[1;33m)\u001b[0m\u001b[1;33m\u001b[0m\u001b[1;33m\u001b[0m\u001b[0m\n\u001b[0;32m      7\u001b[0m \u001b[1;33m\u001b[0m\u001b[0m\n\u001b[1;32m----> 8\u001b[1;33m \u001b[0mget_confusion_matrix\u001b[0m\u001b[1;33m(\u001b[0m\u001b[0my_test\u001b[0m\u001b[1;33m,\u001b[0m \u001b[0my_pred_class\u001b[0m\u001b[1;33m)\u001b[0m\u001b[1;33m\u001b[0m\u001b[1;33m\u001b[0m\u001b[0m\n\u001b[0m",
      "\u001b[1;32mD:\\github\\crowe assignment\\utils.py\u001b[0m in \u001b[0;36mget_confusion_matrix\u001b[1;34m(y_test, y_pred_class)\u001b[0m\n\u001b[0;32m     46\u001b[0m \u001b[1;33m\u001b[0m\u001b[0m\n\u001b[0;32m     47\u001b[0m \u001b[1;33m\u001b[0m\u001b[0m\n\u001b[1;32m---> 48\u001b[1;33m \u001b[1;32mdef\u001b[0m \u001b[0mget_confusion_matrix\u001b[0m\u001b[1;33m(\u001b[0m\u001b[0my_test\u001b[0m\u001b[1;33m,\u001b[0m \u001b[0my_pred_class\u001b[0m\u001b[1;33m)\u001b[0m\u001b[1;33m:\u001b[0m\u001b[1;33m\u001b[0m\u001b[1;33m\u001b[0m\u001b[0m\n\u001b[0m\u001b[0;32m     49\u001b[0m     \u001b[1;31m# print the confusion matrix\u001b[0m\u001b[1;33m\u001b[0m\u001b[1;33m\u001b[0m\u001b[0m\n\u001b[0;32m     50\u001b[0m     \u001b[0mcnf_matrix\u001b[0m \u001b[1;33m=\u001b[0m \u001b[0mconfusion_matrix\u001b[0m\u001b[1;33m(\u001b[0m\u001b[0my_test\u001b[0m\u001b[1;33m,\u001b[0m \u001b[0my_pred_class\u001b[0m\u001b[1;33m)\u001b[0m\u001b[1;33m\u001b[0m\u001b[1;33m\u001b[0m\u001b[0m\n",
      "\u001b[1;31mNameError\u001b[0m: name 'confusion_matrix' is not defined"
     ]
    }
   ],
   "source": [
    "# calculate evaluation measures:\n",
    "# print(\"Prediction at training data\")\n",
    "print_metrics(y_train, y_pred_class_train)\n",
    "print()\n",
    "print(\"Prediction at testing data\")\n",
    "print_metrics(y_test, y_pred_class)\n",
    "\n",
    "get_confusion_matrix(y_test, y_pred_class)"
   ]
  },
  {
   "cell_type": "markdown",
   "metadata": {
    "id": "wmXYSP20kdvi"
   },
   "source": [
    "###  Saving the selected trained model for usage during deployment time"
   ]
  },
  {
   "cell_type": "code",
   "execution_count": 68,
   "metadata": {},
   "outputs": [],
   "source": [
    "## saving both the model architectuire and weights\n",
    "\n",
    "## model architecture\n",
    "model_json = model.to_json()\n",
    "with open(\"model_v1.json\", \"w\") as json_file:\n",
    "    json_file.write(model_json)\n",
    "\n",
    "## model weights\n",
    "model.save_weights(\"model_v1.h5\")"
   ]
  },
  {
   "cell_type": "code",
   "execution_count": null,
   "metadata": {},
   "outputs": [],
   "source": [
    "## using the saved model\n",
    "\n",
    "from keras.models import model_from_json\n",
    "\n",
    "## load model architecture\n",
    "json_file = open('model.json', 'r')\n",
    "loaded_model_json = json_file.read()\n",
    "json_file.close()\n",
    "loaded_model = model_from_json(loaded_model_json)\n",
    "\n",
    "## load model weights\n",
    "loaded_model.load_weights(\"model.h5\")"
   ]
  },
  {
   "cell_type": "code",
   "execution_count": 70,
   "metadata": {},
   "outputs": [],
   "source": [
    "import pickle"
   ]
  },
  {
   "cell_type": "code",
   "execution_count": 71,
   "metadata": {},
   "outputs": [],
   "source": [
    "with open('tokenizer.pickle', 'wb') as handle:\n",
    "    pickle.dump(tokenizer, handle, protocol=pickle.HIGHEST_PROTOCOL)"
   ]
  },
  {
   "cell_type": "code",
   "execution_count": null,
   "metadata": {},
   "outputs": [],
   "source": []
  }
 ],
 "metadata": {
  "colab": {
   "collapsed_sections": [],
   "name": "Sarcasm detection assignment CROW.ipynb",
   "provenance": []
  },
  "kernelspec": {
   "display_name": "Python 3 (ipykernel)",
   "language": "python",
   "name": "python3"
  },
  "language_info": {
   "codemirror_mode": {
    "name": "ipython",
    "version": 3
   },
   "file_extension": ".py",
   "mimetype": "text/x-python",
   "name": "python",
   "nbconvert_exporter": "python",
   "pygments_lexer": "ipython3",
   "version": "3.9.7"
  }
 },
 "nbformat": 4,
 "nbformat_minor": 1
}
